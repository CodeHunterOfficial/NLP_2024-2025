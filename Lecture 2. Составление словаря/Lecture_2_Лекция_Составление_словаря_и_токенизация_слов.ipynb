{
  "nbformat": 4,
  "nbformat_minor": 0,
  "metadata": {
    "colab": {
      "provenance": [],
      "authorship_tag": "ABX9TyP0NfVQul4AIBbVi8iJIkgU",
      "include_colab_link": true
    },
    "kernelspec": {
      "name": "python3",
      "display_name": "Python 3"
    },
    "language_info": {
      "name": "python"
    },
    "widgets": {
      "application/vnd.jupyter.widget-state+json": {
        "424fb1153f3a493cbdb633fbadfaa0d0": {
          "model_module": "@jupyter-widgets/controls",
          "model_name": "HBoxModel",
          "model_module_version": "1.5.0",
          "state": {
            "_dom_classes": [],
            "_model_module": "@jupyter-widgets/controls",
            "_model_module_version": "1.5.0",
            "_model_name": "HBoxModel",
            "_view_count": null,
            "_view_module": "@jupyter-widgets/controls",
            "_view_module_version": "1.5.0",
            "_view_name": "HBoxView",
            "box_style": "",
            "children": [
              "IPY_MODEL_817770e691374fed83e0b4d1862a777d",
              "IPY_MODEL_aa728e4104604538afae424b0f05038a",
              "IPY_MODEL_4d1fd9cbd7824588aa840386ce1e76d8"
            ],
            "layout": "IPY_MODEL_8135e89ecd5b4a44aace8a2bcdb27961"
          }
        },
        "817770e691374fed83e0b4d1862a777d": {
          "model_module": "@jupyter-widgets/controls",
          "model_name": "HTMLModel",
          "model_module_version": "1.5.0",
          "state": {
            "_dom_classes": [],
            "_model_module": "@jupyter-widgets/controls",
            "_model_module_version": "1.5.0",
            "_model_name": "HTMLModel",
            "_view_count": null,
            "_view_module": "@jupyter-widgets/controls",
            "_view_module_version": "1.5.0",
            "_view_name": "HTMLView",
            "description": "",
            "description_tooltip": null,
            "layout": "IPY_MODEL_14ef6678b4684e8f8d348ab76496f9ed",
            "placeholder": "​",
            "style": "IPY_MODEL_6efac1ca92b4467c8df89f9711a1e6e3",
            "value": "tokenizer_config.json: 100%"
          }
        },
        "aa728e4104604538afae424b0f05038a": {
          "model_module": "@jupyter-widgets/controls",
          "model_name": "FloatProgressModel",
          "model_module_version": "1.5.0",
          "state": {
            "_dom_classes": [],
            "_model_module": "@jupyter-widgets/controls",
            "_model_module_version": "1.5.0",
            "_model_name": "FloatProgressModel",
            "_view_count": null,
            "_view_module": "@jupyter-widgets/controls",
            "_view_module_version": "1.5.0",
            "_view_name": "ProgressView",
            "bar_style": "success",
            "description": "",
            "description_tooltip": null,
            "layout": "IPY_MODEL_c9c8631f9bbb4b398a9e035225087904",
            "max": 48,
            "min": 0,
            "orientation": "horizontal",
            "style": "IPY_MODEL_7b125e980a0842c4aaf99d2f14b89dcd",
            "value": 48
          }
        },
        "4d1fd9cbd7824588aa840386ce1e76d8": {
          "model_module": "@jupyter-widgets/controls",
          "model_name": "HTMLModel",
          "model_module_version": "1.5.0",
          "state": {
            "_dom_classes": [],
            "_model_module": "@jupyter-widgets/controls",
            "_model_module_version": "1.5.0",
            "_model_name": "HTMLModel",
            "_view_count": null,
            "_view_module": "@jupyter-widgets/controls",
            "_view_module_version": "1.5.0",
            "_view_name": "HTMLView",
            "description": "",
            "description_tooltip": null,
            "layout": "IPY_MODEL_74e15a43e0ae4e3dac12b4b7f6f2aa9d",
            "placeholder": "​",
            "style": "IPY_MODEL_990be25183f04369a371ec4b402c837a",
            "value": " 48.0/48.0 [00:00&lt;00:00, 1.22kB/s]"
          }
        },
        "8135e89ecd5b4a44aace8a2bcdb27961": {
          "model_module": "@jupyter-widgets/base",
          "model_name": "LayoutModel",
          "model_module_version": "1.2.0",
          "state": {
            "_model_module": "@jupyter-widgets/base",
            "_model_module_version": "1.2.0",
            "_model_name": "LayoutModel",
            "_view_count": null,
            "_view_module": "@jupyter-widgets/base",
            "_view_module_version": "1.2.0",
            "_view_name": "LayoutView",
            "align_content": null,
            "align_items": null,
            "align_self": null,
            "border": null,
            "bottom": null,
            "display": null,
            "flex": null,
            "flex_flow": null,
            "grid_area": null,
            "grid_auto_columns": null,
            "grid_auto_flow": null,
            "grid_auto_rows": null,
            "grid_column": null,
            "grid_gap": null,
            "grid_row": null,
            "grid_template_areas": null,
            "grid_template_columns": null,
            "grid_template_rows": null,
            "height": null,
            "justify_content": null,
            "justify_items": null,
            "left": null,
            "margin": null,
            "max_height": null,
            "max_width": null,
            "min_height": null,
            "min_width": null,
            "object_fit": null,
            "object_position": null,
            "order": null,
            "overflow": null,
            "overflow_x": null,
            "overflow_y": null,
            "padding": null,
            "right": null,
            "top": null,
            "visibility": null,
            "width": null
          }
        },
        "14ef6678b4684e8f8d348ab76496f9ed": {
          "model_module": "@jupyter-widgets/base",
          "model_name": "LayoutModel",
          "model_module_version": "1.2.0",
          "state": {
            "_model_module": "@jupyter-widgets/base",
            "_model_module_version": "1.2.0",
            "_model_name": "LayoutModel",
            "_view_count": null,
            "_view_module": "@jupyter-widgets/base",
            "_view_module_version": "1.2.0",
            "_view_name": "LayoutView",
            "align_content": null,
            "align_items": null,
            "align_self": null,
            "border": null,
            "bottom": null,
            "display": null,
            "flex": null,
            "flex_flow": null,
            "grid_area": null,
            "grid_auto_columns": null,
            "grid_auto_flow": null,
            "grid_auto_rows": null,
            "grid_column": null,
            "grid_gap": null,
            "grid_row": null,
            "grid_template_areas": null,
            "grid_template_columns": null,
            "grid_template_rows": null,
            "height": null,
            "justify_content": null,
            "justify_items": null,
            "left": null,
            "margin": null,
            "max_height": null,
            "max_width": null,
            "min_height": null,
            "min_width": null,
            "object_fit": null,
            "object_position": null,
            "order": null,
            "overflow": null,
            "overflow_x": null,
            "overflow_y": null,
            "padding": null,
            "right": null,
            "top": null,
            "visibility": null,
            "width": null
          }
        },
        "6efac1ca92b4467c8df89f9711a1e6e3": {
          "model_module": "@jupyter-widgets/controls",
          "model_name": "DescriptionStyleModel",
          "model_module_version": "1.5.0",
          "state": {
            "_model_module": "@jupyter-widgets/controls",
            "_model_module_version": "1.5.0",
            "_model_name": "DescriptionStyleModel",
            "_view_count": null,
            "_view_module": "@jupyter-widgets/base",
            "_view_module_version": "1.2.0",
            "_view_name": "StyleView",
            "description_width": ""
          }
        },
        "c9c8631f9bbb4b398a9e035225087904": {
          "model_module": "@jupyter-widgets/base",
          "model_name": "LayoutModel",
          "model_module_version": "1.2.0",
          "state": {
            "_model_module": "@jupyter-widgets/base",
            "_model_module_version": "1.2.0",
            "_model_name": "LayoutModel",
            "_view_count": null,
            "_view_module": "@jupyter-widgets/base",
            "_view_module_version": "1.2.0",
            "_view_name": "LayoutView",
            "align_content": null,
            "align_items": null,
            "align_self": null,
            "border": null,
            "bottom": null,
            "display": null,
            "flex": null,
            "flex_flow": null,
            "grid_area": null,
            "grid_auto_columns": null,
            "grid_auto_flow": null,
            "grid_auto_rows": null,
            "grid_column": null,
            "grid_gap": null,
            "grid_row": null,
            "grid_template_areas": null,
            "grid_template_columns": null,
            "grid_template_rows": null,
            "height": null,
            "justify_content": null,
            "justify_items": null,
            "left": null,
            "margin": null,
            "max_height": null,
            "max_width": null,
            "min_height": null,
            "min_width": null,
            "object_fit": null,
            "object_position": null,
            "order": null,
            "overflow": null,
            "overflow_x": null,
            "overflow_y": null,
            "padding": null,
            "right": null,
            "top": null,
            "visibility": null,
            "width": null
          }
        },
        "7b125e980a0842c4aaf99d2f14b89dcd": {
          "model_module": "@jupyter-widgets/controls",
          "model_name": "ProgressStyleModel",
          "model_module_version": "1.5.0",
          "state": {
            "_model_module": "@jupyter-widgets/controls",
            "_model_module_version": "1.5.0",
            "_model_name": "ProgressStyleModel",
            "_view_count": null,
            "_view_module": "@jupyter-widgets/base",
            "_view_module_version": "1.2.0",
            "_view_name": "StyleView",
            "bar_color": null,
            "description_width": ""
          }
        },
        "74e15a43e0ae4e3dac12b4b7f6f2aa9d": {
          "model_module": "@jupyter-widgets/base",
          "model_name": "LayoutModel",
          "model_module_version": "1.2.0",
          "state": {
            "_model_module": "@jupyter-widgets/base",
            "_model_module_version": "1.2.0",
            "_model_name": "LayoutModel",
            "_view_count": null,
            "_view_module": "@jupyter-widgets/base",
            "_view_module_version": "1.2.0",
            "_view_name": "LayoutView",
            "align_content": null,
            "align_items": null,
            "align_self": null,
            "border": null,
            "bottom": null,
            "display": null,
            "flex": null,
            "flex_flow": null,
            "grid_area": null,
            "grid_auto_columns": null,
            "grid_auto_flow": null,
            "grid_auto_rows": null,
            "grid_column": null,
            "grid_gap": null,
            "grid_row": null,
            "grid_template_areas": null,
            "grid_template_columns": null,
            "grid_template_rows": null,
            "height": null,
            "justify_content": null,
            "justify_items": null,
            "left": null,
            "margin": null,
            "max_height": null,
            "max_width": null,
            "min_height": null,
            "min_width": null,
            "object_fit": null,
            "object_position": null,
            "order": null,
            "overflow": null,
            "overflow_x": null,
            "overflow_y": null,
            "padding": null,
            "right": null,
            "top": null,
            "visibility": null,
            "width": null
          }
        },
        "990be25183f04369a371ec4b402c837a": {
          "model_module": "@jupyter-widgets/controls",
          "model_name": "DescriptionStyleModel",
          "model_module_version": "1.5.0",
          "state": {
            "_model_module": "@jupyter-widgets/controls",
            "_model_module_version": "1.5.0",
            "_model_name": "DescriptionStyleModel",
            "_view_count": null,
            "_view_module": "@jupyter-widgets/base",
            "_view_module_version": "1.2.0",
            "_view_name": "StyleView",
            "description_width": ""
          }
        },
        "af19eeb9f4b843d4ae3daa887523c9b2": {
          "model_module": "@jupyter-widgets/controls",
          "model_name": "HBoxModel",
          "model_module_version": "1.5.0",
          "state": {
            "_dom_classes": [],
            "_model_module": "@jupyter-widgets/controls",
            "_model_module_version": "1.5.0",
            "_model_name": "HBoxModel",
            "_view_count": null,
            "_view_module": "@jupyter-widgets/controls",
            "_view_module_version": "1.5.0",
            "_view_name": "HBoxView",
            "box_style": "",
            "children": [
              "IPY_MODEL_ac1567340ba34324b035567050a8a5b0",
              "IPY_MODEL_ddd6f3983807462a894db6d10414b674",
              "IPY_MODEL_5ee942a59ba2436f860b91abbea558fd"
            ],
            "layout": "IPY_MODEL_e67aee0fc3a1423e891b80b6be323a1c"
          }
        },
        "ac1567340ba34324b035567050a8a5b0": {
          "model_module": "@jupyter-widgets/controls",
          "model_name": "HTMLModel",
          "model_module_version": "1.5.0",
          "state": {
            "_dom_classes": [],
            "_model_module": "@jupyter-widgets/controls",
            "_model_module_version": "1.5.0",
            "_model_name": "HTMLModel",
            "_view_count": null,
            "_view_module": "@jupyter-widgets/controls",
            "_view_module_version": "1.5.0",
            "_view_name": "HTMLView",
            "description": "",
            "description_tooltip": null,
            "layout": "IPY_MODEL_0fa2e83005bc48929fd52f635bfc26aa",
            "placeholder": "​",
            "style": "IPY_MODEL_34c7ac92ef9240c98a9d4280a3532df2",
            "value": "config.json: 100%"
          }
        },
        "ddd6f3983807462a894db6d10414b674": {
          "model_module": "@jupyter-widgets/controls",
          "model_name": "FloatProgressModel",
          "model_module_version": "1.5.0",
          "state": {
            "_dom_classes": [],
            "_model_module": "@jupyter-widgets/controls",
            "_model_module_version": "1.5.0",
            "_model_name": "FloatProgressModel",
            "_view_count": null,
            "_view_module": "@jupyter-widgets/controls",
            "_view_module_version": "1.5.0",
            "_view_name": "ProgressView",
            "bar_style": "success",
            "description": "",
            "description_tooltip": null,
            "layout": "IPY_MODEL_5bfb11bbe9a747b699171376743b2d59",
            "max": 570,
            "min": 0,
            "orientation": "horizontal",
            "style": "IPY_MODEL_6c4e0d6e66c44a679fab711c01e0638a",
            "value": 570
          }
        },
        "5ee942a59ba2436f860b91abbea558fd": {
          "model_module": "@jupyter-widgets/controls",
          "model_name": "HTMLModel",
          "model_module_version": "1.5.0",
          "state": {
            "_dom_classes": [],
            "_model_module": "@jupyter-widgets/controls",
            "_model_module_version": "1.5.0",
            "_model_name": "HTMLModel",
            "_view_count": null,
            "_view_module": "@jupyter-widgets/controls",
            "_view_module_version": "1.5.0",
            "_view_name": "HTMLView",
            "description": "",
            "description_tooltip": null,
            "layout": "IPY_MODEL_f30ecd923a534ac0951b0bf50ef2c5e1",
            "placeholder": "​",
            "style": "IPY_MODEL_9a18d0b4f6cf40cfbc979efc536a777a",
            "value": " 570/570 [00:00&lt;00:00, 18.6kB/s]"
          }
        },
        "e67aee0fc3a1423e891b80b6be323a1c": {
          "model_module": "@jupyter-widgets/base",
          "model_name": "LayoutModel",
          "model_module_version": "1.2.0",
          "state": {
            "_model_module": "@jupyter-widgets/base",
            "_model_module_version": "1.2.0",
            "_model_name": "LayoutModel",
            "_view_count": null,
            "_view_module": "@jupyter-widgets/base",
            "_view_module_version": "1.2.0",
            "_view_name": "LayoutView",
            "align_content": null,
            "align_items": null,
            "align_self": null,
            "border": null,
            "bottom": null,
            "display": null,
            "flex": null,
            "flex_flow": null,
            "grid_area": null,
            "grid_auto_columns": null,
            "grid_auto_flow": null,
            "grid_auto_rows": null,
            "grid_column": null,
            "grid_gap": null,
            "grid_row": null,
            "grid_template_areas": null,
            "grid_template_columns": null,
            "grid_template_rows": null,
            "height": null,
            "justify_content": null,
            "justify_items": null,
            "left": null,
            "margin": null,
            "max_height": null,
            "max_width": null,
            "min_height": null,
            "min_width": null,
            "object_fit": null,
            "object_position": null,
            "order": null,
            "overflow": null,
            "overflow_x": null,
            "overflow_y": null,
            "padding": null,
            "right": null,
            "top": null,
            "visibility": null,
            "width": null
          }
        },
        "0fa2e83005bc48929fd52f635bfc26aa": {
          "model_module": "@jupyter-widgets/base",
          "model_name": "LayoutModel",
          "model_module_version": "1.2.0",
          "state": {
            "_model_module": "@jupyter-widgets/base",
            "_model_module_version": "1.2.0",
            "_model_name": "LayoutModel",
            "_view_count": null,
            "_view_module": "@jupyter-widgets/base",
            "_view_module_version": "1.2.0",
            "_view_name": "LayoutView",
            "align_content": null,
            "align_items": null,
            "align_self": null,
            "border": null,
            "bottom": null,
            "display": null,
            "flex": null,
            "flex_flow": null,
            "grid_area": null,
            "grid_auto_columns": null,
            "grid_auto_flow": null,
            "grid_auto_rows": null,
            "grid_column": null,
            "grid_gap": null,
            "grid_row": null,
            "grid_template_areas": null,
            "grid_template_columns": null,
            "grid_template_rows": null,
            "height": null,
            "justify_content": null,
            "justify_items": null,
            "left": null,
            "margin": null,
            "max_height": null,
            "max_width": null,
            "min_height": null,
            "min_width": null,
            "object_fit": null,
            "object_position": null,
            "order": null,
            "overflow": null,
            "overflow_x": null,
            "overflow_y": null,
            "padding": null,
            "right": null,
            "top": null,
            "visibility": null,
            "width": null
          }
        },
        "34c7ac92ef9240c98a9d4280a3532df2": {
          "model_module": "@jupyter-widgets/controls",
          "model_name": "DescriptionStyleModel",
          "model_module_version": "1.5.0",
          "state": {
            "_model_module": "@jupyter-widgets/controls",
            "_model_module_version": "1.5.0",
            "_model_name": "DescriptionStyleModel",
            "_view_count": null,
            "_view_module": "@jupyter-widgets/base",
            "_view_module_version": "1.2.0",
            "_view_name": "StyleView",
            "description_width": ""
          }
        },
        "5bfb11bbe9a747b699171376743b2d59": {
          "model_module": "@jupyter-widgets/base",
          "model_name": "LayoutModel",
          "model_module_version": "1.2.0",
          "state": {
            "_model_module": "@jupyter-widgets/base",
            "_model_module_version": "1.2.0",
            "_model_name": "LayoutModel",
            "_view_count": null,
            "_view_module": "@jupyter-widgets/base",
            "_view_module_version": "1.2.0",
            "_view_name": "LayoutView",
            "align_content": null,
            "align_items": null,
            "align_self": null,
            "border": null,
            "bottom": null,
            "display": null,
            "flex": null,
            "flex_flow": null,
            "grid_area": null,
            "grid_auto_columns": null,
            "grid_auto_flow": null,
            "grid_auto_rows": null,
            "grid_column": null,
            "grid_gap": null,
            "grid_row": null,
            "grid_template_areas": null,
            "grid_template_columns": null,
            "grid_template_rows": null,
            "height": null,
            "justify_content": null,
            "justify_items": null,
            "left": null,
            "margin": null,
            "max_height": null,
            "max_width": null,
            "min_height": null,
            "min_width": null,
            "object_fit": null,
            "object_position": null,
            "order": null,
            "overflow": null,
            "overflow_x": null,
            "overflow_y": null,
            "padding": null,
            "right": null,
            "top": null,
            "visibility": null,
            "width": null
          }
        },
        "6c4e0d6e66c44a679fab711c01e0638a": {
          "model_module": "@jupyter-widgets/controls",
          "model_name": "ProgressStyleModel",
          "model_module_version": "1.5.0",
          "state": {
            "_model_module": "@jupyter-widgets/controls",
            "_model_module_version": "1.5.0",
            "_model_name": "ProgressStyleModel",
            "_view_count": null,
            "_view_module": "@jupyter-widgets/base",
            "_view_module_version": "1.2.0",
            "_view_name": "StyleView",
            "bar_color": null,
            "description_width": ""
          }
        },
        "f30ecd923a534ac0951b0bf50ef2c5e1": {
          "model_module": "@jupyter-widgets/base",
          "model_name": "LayoutModel",
          "model_module_version": "1.2.0",
          "state": {
            "_model_module": "@jupyter-widgets/base",
            "_model_module_version": "1.2.0",
            "_model_name": "LayoutModel",
            "_view_count": null,
            "_view_module": "@jupyter-widgets/base",
            "_view_module_version": "1.2.0",
            "_view_name": "LayoutView",
            "align_content": null,
            "align_items": null,
            "align_self": null,
            "border": null,
            "bottom": null,
            "display": null,
            "flex": null,
            "flex_flow": null,
            "grid_area": null,
            "grid_auto_columns": null,
            "grid_auto_flow": null,
            "grid_auto_rows": null,
            "grid_column": null,
            "grid_gap": null,
            "grid_row": null,
            "grid_template_areas": null,
            "grid_template_columns": null,
            "grid_template_rows": null,
            "height": null,
            "justify_content": null,
            "justify_items": null,
            "left": null,
            "margin": null,
            "max_height": null,
            "max_width": null,
            "min_height": null,
            "min_width": null,
            "object_fit": null,
            "object_position": null,
            "order": null,
            "overflow": null,
            "overflow_x": null,
            "overflow_y": null,
            "padding": null,
            "right": null,
            "top": null,
            "visibility": null,
            "width": null
          }
        },
        "9a18d0b4f6cf40cfbc979efc536a777a": {
          "model_module": "@jupyter-widgets/controls",
          "model_name": "DescriptionStyleModel",
          "model_module_version": "1.5.0",
          "state": {
            "_model_module": "@jupyter-widgets/controls",
            "_model_module_version": "1.5.0",
            "_model_name": "DescriptionStyleModel",
            "_view_count": null,
            "_view_module": "@jupyter-widgets/base",
            "_view_module_version": "1.2.0",
            "_view_name": "StyleView",
            "description_width": ""
          }
        },
        "3f26d30e46444a7d8cb971a402122b3b": {
          "model_module": "@jupyter-widgets/controls",
          "model_name": "HBoxModel",
          "model_module_version": "1.5.0",
          "state": {
            "_dom_classes": [],
            "_model_module": "@jupyter-widgets/controls",
            "_model_module_version": "1.5.0",
            "_model_name": "HBoxModel",
            "_view_count": null,
            "_view_module": "@jupyter-widgets/controls",
            "_view_module_version": "1.5.0",
            "_view_name": "HBoxView",
            "box_style": "",
            "children": [
              "IPY_MODEL_d26dd289c2f04accb4f9050108de2462",
              "IPY_MODEL_6e87667d2a414775b2edae5c9c81c816",
              "IPY_MODEL_34220e720ff64d39a906d418c676f717"
            ],
            "layout": "IPY_MODEL_26cb3e2b49d045e79b67bc766e0c3c01"
          }
        },
        "d26dd289c2f04accb4f9050108de2462": {
          "model_module": "@jupyter-widgets/controls",
          "model_name": "HTMLModel",
          "model_module_version": "1.5.0",
          "state": {
            "_dom_classes": [],
            "_model_module": "@jupyter-widgets/controls",
            "_model_module_version": "1.5.0",
            "_model_name": "HTMLModel",
            "_view_count": null,
            "_view_module": "@jupyter-widgets/controls",
            "_view_module_version": "1.5.0",
            "_view_name": "HTMLView",
            "description": "",
            "description_tooltip": null,
            "layout": "IPY_MODEL_75ce438256c24e2795ad12617e3fd951",
            "placeholder": "​",
            "style": "IPY_MODEL_0510375ef07a4f5f86e85d12297fdba2",
            "value": "vocab.txt: 100%"
          }
        },
        "6e87667d2a414775b2edae5c9c81c816": {
          "model_module": "@jupyter-widgets/controls",
          "model_name": "FloatProgressModel",
          "model_module_version": "1.5.0",
          "state": {
            "_dom_classes": [],
            "_model_module": "@jupyter-widgets/controls",
            "_model_module_version": "1.5.0",
            "_model_name": "FloatProgressModel",
            "_view_count": null,
            "_view_module": "@jupyter-widgets/controls",
            "_view_module_version": "1.5.0",
            "_view_name": "ProgressView",
            "bar_style": "success",
            "description": "",
            "description_tooltip": null,
            "layout": "IPY_MODEL_abd4704f985e48eb8beea921ebc3af5c",
            "max": 231508,
            "min": 0,
            "orientation": "horizontal",
            "style": "IPY_MODEL_e022d170c3fd4e1aa0c0f0831c30e8c4",
            "value": 231508
          }
        },
        "34220e720ff64d39a906d418c676f717": {
          "model_module": "@jupyter-widgets/controls",
          "model_name": "HTMLModel",
          "model_module_version": "1.5.0",
          "state": {
            "_dom_classes": [],
            "_model_module": "@jupyter-widgets/controls",
            "_model_module_version": "1.5.0",
            "_model_name": "HTMLModel",
            "_view_count": null,
            "_view_module": "@jupyter-widgets/controls",
            "_view_module_version": "1.5.0",
            "_view_name": "HTMLView",
            "description": "",
            "description_tooltip": null,
            "layout": "IPY_MODEL_685e035861424b53a20e94ec3a02048d",
            "placeholder": "​",
            "style": "IPY_MODEL_fa9b0c298a28418d989ecde7cc8b7c84",
            "value": " 232k/232k [00:00&lt;00:00, 2.60MB/s]"
          }
        },
        "26cb3e2b49d045e79b67bc766e0c3c01": {
          "model_module": "@jupyter-widgets/base",
          "model_name": "LayoutModel",
          "model_module_version": "1.2.0",
          "state": {
            "_model_module": "@jupyter-widgets/base",
            "_model_module_version": "1.2.0",
            "_model_name": "LayoutModel",
            "_view_count": null,
            "_view_module": "@jupyter-widgets/base",
            "_view_module_version": "1.2.0",
            "_view_name": "LayoutView",
            "align_content": null,
            "align_items": null,
            "align_self": null,
            "border": null,
            "bottom": null,
            "display": null,
            "flex": null,
            "flex_flow": null,
            "grid_area": null,
            "grid_auto_columns": null,
            "grid_auto_flow": null,
            "grid_auto_rows": null,
            "grid_column": null,
            "grid_gap": null,
            "grid_row": null,
            "grid_template_areas": null,
            "grid_template_columns": null,
            "grid_template_rows": null,
            "height": null,
            "justify_content": null,
            "justify_items": null,
            "left": null,
            "margin": null,
            "max_height": null,
            "max_width": null,
            "min_height": null,
            "min_width": null,
            "object_fit": null,
            "object_position": null,
            "order": null,
            "overflow": null,
            "overflow_x": null,
            "overflow_y": null,
            "padding": null,
            "right": null,
            "top": null,
            "visibility": null,
            "width": null
          }
        },
        "75ce438256c24e2795ad12617e3fd951": {
          "model_module": "@jupyter-widgets/base",
          "model_name": "LayoutModel",
          "model_module_version": "1.2.0",
          "state": {
            "_model_module": "@jupyter-widgets/base",
            "_model_module_version": "1.2.0",
            "_model_name": "LayoutModel",
            "_view_count": null,
            "_view_module": "@jupyter-widgets/base",
            "_view_module_version": "1.2.0",
            "_view_name": "LayoutView",
            "align_content": null,
            "align_items": null,
            "align_self": null,
            "border": null,
            "bottom": null,
            "display": null,
            "flex": null,
            "flex_flow": null,
            "grid_area": null,
            "grid_auto_columns": null,
            "grid_auto_flow": null,
            "grid_auto_rows": null,
            "grid_column": null,
            "grid_gap": null,
            "grid_row": null,
            "grid_template_areas": null,
            "grid_template_columns": null,
            "grid_template_rows": null,
            "height": null,
            "justify_content": null,
            "justify_items": null,
            "left": null,
            "margin": null,
            "max_height": null,
            "max_width": null,
            "min_height": null,
            "min_width": null,
            "object_fit": null,
            "object_position": null,
            "order": null,
            "overflow": null,
            "overflow_x": null,
            "overflow_y": null,
            "padding": null,
            "right": null,
            "top": null,
            "visibility": null,
            "width": null
          }
        },
        "0510375ef07a4f5f86e85d12297fdba2": {
          "model_module": "@jupyter-widgets/controls",
          "model_name": "DescriptionStyleModel",
          "model_module_version": "1.5.0",
          "state": {
            "_model_module": "@jupyter-widgets/controls",
            "_model_module_version": "1.5.0",
            "_model_name": "DescriptionStyleModel",
            "_view_count": null,
            "_view_module": "@jupyter-widgets/base",
            "_view_module_version": "1.2.0",
            "_view_name": "StyleView",
            "description_width": ""
          }
        },
        "abd4704f985e48eb8beea921ebc3af5c": {
          "model_module": "@jupyter-widgets/base",
          "model_name": "LayoutModel",
          "model_module_version": "1.2.0",
          "state": {
            "_model_module": "@jupyter-widgets/base",
            "_model_module_version": "1.2.0",
            "_model_name": "LayoutModel",
            "_view_count": null,
            "_view_module": "@jupyter-widgets/base",
            "_view_module_version": "1.2.0",
            "_view_name": "LayoutView",
            "align_content": null,
            "align_items": null,
            "align_self": null,
            "border": null,
            "bottom": null,
            "display": null,
            "flex": null,
            "flex_flow": null,
            "grid_area": null,
            "grid_auto_columns": null,
            "grid_auto_flow": null,
            "grid_auto_rows": null,
            "grid_column": null,
            "grid_gap": null,
            "grid_row": null,
            "grid_template_areas": null,
            "grid_template_columns": null,
            "grid_template_rows": null,
            "height": null,
            "justify_content": null,
            "justify_items": null,
            "left": null,
            "margin": null,
            "max_height": null,
            "max_width": null,
            "min_height": null,
            "min_width": null,
            "object_fit": null,
            "object_position": null,
            "order": null,
            "overflow": null,
            "overflow_x": null,
            "overflow_y": null,
            "padding": null,
            "right": null,
            "top": null,
            "visibility": null,
            "width": null
          }
        },
        "e022d170c3fd4e1aa0c0f0831c30e8c4": {
          "model_module": "@jupyter-widgets/controls",
          "model_name": "ProgressStyleModel",
          "model_module_version": "1.5.0",
          "state": {
            "_model_module": "@jupyter-widgets/controls",
            "_model_module_version": "1.5.0",
            "_model_name": "ProgressStyleModel",
            "_view_count": null,
            "_view_module": "@jupyter-widgets/base",
            "_view_module_version": "1.2.0",
            "_view_name": "StyleView",
            "bar_color": null,
            "description_width": ""
          }
        },
        "685e035861424b53a20e94ec3a02048d": {
          "model_module": "@jupyter-widgets/base",
          "model_name": "LayoutModel",
          "model_module_version": "1.2.0",
          "state": {
            "_model_module": "@jupyter-widgets/base",
            "_model_module_version": "1.2.0",
            "_model_name": "LayoutModel",
            "_view_count": null,
            "_view_module": "@jupyter-widgets/base",
            "_view_module_version": "1.2.0",
            "_view_name": "LayoutView",
            "align_content": null,
            "align_items": null,
            "align_self": null,
            "border": null,
            "bottom": null,
            "display": null,
            "flex": null,
            "flex_flow": null,
            "grid_area": null,
            "grid_auto_columns": null,
            "grid_auto_flow": null,
            "grid_auto_rows": null,
            "grid_column": null,
            "grid_gap": null,
            "grid_row": null,
            "grid_template_areas": null,
            "grid_template_columns": null,
            "grid_template_rows": null,
            "height": null,
            "justify_content": null,
            "justify_items": null,
            "left": null,
            "margin": null,
            "max_height": null,
            "max_width": null,
            "min_height": null,
            "min_width": null,
            "object_fit": null,
            "object_position": null,
            "order": null,
            "overflow": null,
            "overflow_x": null,
            "overflow_y": null,
            "padding": null,
            "right": null,
            "top": null,
            "visibility": null,
            "width": null
          }
        },
        "fa9b0c298a28418d989ecde7cc8b7c84": {
          "model_module": "@jupyter-widgets/controls",
          "model_name": "DescriptionStyleModel",
          "model_module_version": "1.5.0",
          "state": {
            "_model_module": "@jupyter-widgets/controls",
            "_model_module_version": "1.5.0",
            "_model_name": "DescriptionStyleModel",
            "_view_count": null,
            "_view_module": "@jupyter-widgets/base",
            "_view_module_version": "1.2.0",
            "_view_name": "StyleView",
            "description_width": ""
          }
        },
        "97021f8f44cc4c429d7911eea3a03564": {
          "model_module": "@jupyter-widgets/controls",
          "model_name": "HBoxModel",
          "model_module_version": "1.5.0",
          "state": {
            "_dom_classes": [],
            "_model_module": "@jupyter-widgets/controls",
            "_model_module_version": "1.5.0",
            "_model_name": "HBoxModel",
            "_view_count": null,
            "_view_module": "@jupyter-widgets/controls",
            "_view_module_version": "1.5.0",
            "_view_name": "HBoxView",
            "box_style": "",
            "children": [
              "IPY_MODEL_db717ea071484ff1bd7b6ddfa65d4032",
              "IPY_MODEL_f95f348150cc45d4bddc5a6e3a54dbb6",
              "IPY_MODEL_2274de27cea8498e85a92ed2386a2855"
            ],
            "layout": "IPY_MODEL_81cd4bc8ba2645b89d7dd248a46b1f51"
          }
        },
        "db717ea071484ff1bd7b6ddfa65d4032": {
          "model_module": "@jupyter-widgets/controls",
          "model_name": "HTMLModel",
          "model_module_version": "1.5.0",
          "state": {
            "_dom_classes": [],
            "_model_module": "@jupyter-widgets/controls",
            "_model_module_version": "1.5.0",
            "_model_name": "HTMLModel",
            "_view_count": null,
            "_view_module": "@jupyter-widgets/controls",
            "_view_module_version": "1.5.0",
            "_view_name": "HTMLView",
            "description": "",
            "description_tooltip": null,
            "layout": "IPY_MODEL_f06a0d990e6749cda6fd0aaf5e50fd05",
            "placeholder": "​",
            "style": "IPY_MODEL_93a19d41b86e4c09b3b965b88ab1fa8b",
            "value": "tokenizer.json: 100%"
          }
        },
        "f95f348150cc45d4bddc5a6e3a54dbb6": {
          "model_module": "@jupyter-widgets/controls",
          "model_name": "FloatProgressModel",
          "model_module_version": "1.5.0",
          "state": {
            "_dom_classes": [],
            "_model_module": "@jupyter-widgets/controls",
            "_model_module_version": "1.5.0",
            "_model_name": "FloatProgressModel",
            "_view_count": null,
            "_view_module": "@jupyter-widgets/controls",
            "_view_module_version": "1.5.0",
            "_view_name": "ProgressView",
            "bar_style": "success",
            "description": "",
            "description_tooltip": null,
            "layout": "IPY_MODEL_86367e15ce7e4ca083c80e2fdf967917",
            "max": 466062,
            "min": 0,
            "orientation": "horizontal",
            "style": "IPY_MODEL_aee7610fdc2c42ec9e53d9d3faecd23e",
            "value": 466062
          }
        },
        "2274de27cea8498e85a92ed2386a2855": {
          "model_module": "@jupyter-widgets/controls",
          "model_name": "HTMLModel",
          "model_module_version": "1.5.0",
          "state": {
            "_dom_classes": [],
            "_model_module": "@jupyter-widgets/controls",
            "_model_module_version": "1.5.0",
            "_model_name": "HTMLModel",
            "_view_count": null,
            "_view_module": "@jupyter-widgets/controls",
            "_view_module_version": "1.5.0",
            "_view_name": "HTMLView",
            "description": "",
            "description_tooltip": null,
            "layout": "IPY_MODEL_254ea3f3038f49d29dc6c31682f63b52",
            "placeholder": "​",
            "style": "IPY_MODEL_e4147ee94de144e09487b4e79de8b9a2",
            "value": " 466k/466k [00:00&lt;00:00, 4.51MB/s]"
          }
        },
        "81cd4bc8ba2645b89d7dd248a46b1f51": {
          "model_module": "@jupyter-widgets/base",
          "model_name": "LayoutModel",
          "model_module_version": "1.2.0",
          "state": {
            "_model_module": "@jupyter-widgets/base",
            "_model_module_version": "1.2.0",
            "_model_name": "LayoutModel",
            "_view_count": null,
            "_view_module": "@jupyter-widgets/base",
            "_view_module_version": "1.2.0",
            "_view_name": "LayoutView",
            "align_content": null,
            "align_items": null,
            "align_self": null,
            "border": null,
            "bottom": null,
            "display": null,
            "flex": null,
            "flex_flow": null,
            "grid_area": null,
            "grid_auto_columns": null,
            "grid_auto_flow": null,
            "grid_auto_rows": null,
            "grid_column": null,
            "grid_gap": null,
            "grid_row": null,
            "grid_template_areas": null,
            "grid_template_columns": null,
            "grid_template_rows": null,
            "height": null,
            "justify_content": null,
            "justify_items": null,
            "left": null,
            "margin": null,
            "max_height": null,
            "max_width": null,
            "min_height": null,
            "min_width": null,
            "object_fit": null,
            "object_position": null,
            "order": null,
            "overflow": null,
            "overflow_x": null,
            "overflow_y": null,
            "padding": null,
            "right": null,
            "top": null,
            "visibility": null,
            "width": null
          }
        },
        "f06a0d990e6749cda6fd0aaf5e50fd05": {
          "model_module": "@jupyter-widgets/base",
          "model_name": "LayoutModel",
          "model_module_version": "1.2.0",
          "state": {
            "_model_module": "@jupyter-widgets/base",
            "_model_module_version": "1.2.0",
            "_model_name": "LayoutModel",
            "_view_count": null,
            "_view_module": "@jupyter-widgets/base",
            "_view_module_version": "1.2.0",
            "_view_name": "LayoutView",
            "align_content": null,
            "align_items": null,
            "align_self": null,
            "border": null,
            "bottom": null,
            "display": null,
            "flex": null,
            "flex_flow": null,
            "grid_area": null,
            "grid_auto_columns": null,
            "grid_auto_flow": null,
            "grid_auto_rows": null,
            "grid_column": null,
            "grid_gap": null,
            "grid_row": null,
            "grid_template_areas": null,
            "grid_template_columns": null,
            "grid_template_rows": null,
            "height": null,
            "justify_content": null,
            "justify_items": null,
            "left": null,
            "margin": null,
            "max_height": null,
            "max_width": null,
            "min_height": null,
            "min_width": null,
            "object_fit": null,
            "object_position": null,
            "order": null,
            "overflow": null,
            "overflow_x": null,
            "overflow_y": null,
            "padding": null,
            "right": null,
            "top": null,
            "visibility": null,
            "width": null
          }
        },
        "93a19d41b86e4c09b3b965b88ab1fa8b": {
          "model_module": "@jupyter-widgets/controls",
          "model_name": "DescriptionStyleModel",
          "model_module_version": "1.5.0",
          "state": {
            "_model_module": "@jupyter-widgets/controls",
            "_model_module_version": "1.5.0",
            "_model_name": "DescriptionStyleModel",
            "_view_count": null,
            "_view_module": "@jupyter-widgets/base",
            "_view_module_version": "1.2.0",
            "_view_name": "StyleView",
            "description_width": ""
          }
        },
        "86367e15ce7e4ca083c80e2fdf967917": {
          "model_module": "@jupyter-widgets/base",
          "model_name": "LayoutModel",
          "model_module_version": "1.2.0",
          "state": {
            "_model_module": "@jupyter-widgets/base",
            "_model_module_version": "1.2.0",
            "_model_name": "LayoutModel",
            "_view_count": null,
            "_view_module": "@jupyter-widgets/base",
            "_view_module_version": "1.2.0",
            "_view_name": "LayoutView",
            "align_content": null,
            "align_items": null,
            "align_self": null,
            "border": null,
            "bottom": null,
            "display": null,
            "flex": null,
            "flex_flow": null,
            "grid_area": null,
            "grid_auto_columns": null,
            "grid_auto_flow": null,
            "grid_auto_rows": null,
            "grid_column": null,
            "grid_gap": null,
            "grid_row": null,
            "grid_template_areas": null,
            "grid_template_columns": null,
            "grid_template_rows": null,
            "height": null,
            "justify_content": null,
            "justify_items": null,
            "left": null,
            "margin": null,
            "max_height": null,
            "max_width": null,
            "min_height": null,
            "min_width": null,
            "object_fit": null,
            "object_position": null,
            "order": null,
            "overflow": null,
            "overflow_x": null,
            "overflow_y": null,
            "padding": null,
            "right": null,
            "top": null,
            "visibility": null,
            "width": null
          }
        },
        "aee7610fdc2c42ec9e53d9d3faecd23e": {
          "model_module": "@jupyter-widgets/controls",
          "model_name": "ProgressStyleModel",
          "model_module_version": "1.5.0",
          "state": {
            "_model_module": "@jupyter-widgets/controls",
            "_model_module_version": "1.5.0",
            "_model_name": "ProgressStyleModel",
            "_view_count": null,
            "_view_module": "@jupyter-widgets/base",
            "_view_module_version": "1.2.0",
            "_view_name": "StyleView",
            "bar_color": null,
            "description_width": ""
          }
        },
        "254ea3f3038f49d29dc6c31682f63b52": {
          "model_module": "@jupyter-widgets/base",
          "model_name": "LayoutModel",
          "model_module_version": "1.2.0",
          "state": {
            "_model_module": "@jupyter-widgets/base",
            "_model_module_version": "1.2.0",
            "_model_name": "LayoutModel",
            "_view_count": null,
            "_view_module": "@jupyter-widgets/base",
            "_view_module_version": "1.2.0",
            "_view_name": "LayoutView",
            "align_content": null,
            "align_items": null,
            "align_self": null,
            "border": null,
            "bottom": null,
            "display": null,
            "flex": null,
            "flex_flow": null,
            "grid_area": null,
            "grid_auto_columns": null,
            "grid_auto_flow": null,
            "grid_auto_rows": null,
            "grid_column": null,
            "grid_gap": null,
            "grid_row": null,
            "grid_template_areas": null,
            "grid_template_columns": null,
            "grid_template_rows": null,
            "height": null,
            "justify_content": null,
            "justify_items": null,
            "left": null,
            "margin": null,
            "max_height": null,
            "max_width": null,
            "min_height": null,
            "min_width": null,
            "object_fit": null,
            "object_position": null,
            "order": null,
            "overflow": null,
            "overflow_x": null,
            "overflow_y": null,
            "padding": null,
            "right": null,
            "top": null,
            "visibility": null,
            "width": null
          }
        },
        "e4147ee94de144e09487b4e79de8b9a2": {
          "model_module": "@jupyter-widgets/controls",
          "model_name": "DescriptionStyleModel",
          "model_module_version": "1.5.0",
          "state": {
            "_model_module": "@jupyter-widgets/controls",
            "_model_module_version": "1.5.0",
            "_model_name": "DescriptionStyleModel",
            "_view_count": null,
            "_view_module": "@jupyter-widgets/base",
            "_view_module_version": "1.2.0",
            "_view_name": "StyleView",
            "description_width": ""
          }
        }
      }
    }
  },
  "cells": [
    {
      "cell_type": "markdown",
      "metadata": {
        "id": "view-in-github",
        "colab_type": "text"
      },
      "source": [
        "<a href=\"https://colab.research.google.com/github/CodeHunterOfficial/NLP-2024-2025/blob/main/Lecture_2_%D0%9B%D0%B5%D0%BA%D1%86%D0%B8%D1%8F_%D0%A1%D0%BE%D1%81%D1%82%D0%B0%D0%B2%D0%BB%D0%B5%D0%BD%D0%B8%D0%B5_%D1%81%D0%BB%D0%BE%D0%B2%D0%B0%D1%80%D1%8F_%D0%B8_%D1%82%D0%BE%D0%BA%D0%B5%D0%BD%D0%B8%D0%B7%D0%B0%D1%86%D0%B8%D1%8F_%D1%81%D0%BB%D0%BE%D0%B2.ipynb\" target=\"_parent\"><img src=\"https://colab.research.google.com/assets/colab-badge.svg\" alt=\"Open In Colab\"/></a>"
      ]
    },
    {
      "cell_type": "markdown",
      "source": [
        "## Lecture 2. Лекция: Составление словаря и токенизация слов\n",
        "\n",
        "#### Введение\n",
        "\n",
        "Обработка естественного языка (NLP) является важной областью компьютерной науки и лингвистики, ориентированной на взаимодействие между компьютерами и человеческими (естественными) языками. Токенизация и стемминг — это ключевые методы предварительной обработки текста, которые улучшают качество анализа текстов и извлечения информации.\n",
        "\n",
        "#### 1. Токенизация\n",
        "\n",
        "Токенизация — это процесс разделения текста на отдельные элементы, называемые токенами. Токены могут быть словами, предложениями, символами или другими значимыми элементами текста.\n",
        "\n",
        "##### 1.1. Основные методы токенизации\n",
        "\n",
        "1. **Разделение по пробелам и пунктуации**:\n",
        "   - Самый простой и распространённый метод.\n",
        "   - Текст разбивается на токены на основе пробелов и знаков препинания.\n",
        "\n",
        "2. **Использование регулярных выражений**:\n",
        "   - Позволяет задавать сложные правила для выделения токенов.\n",
        "   - Python библиотека `re` полезна для таких целей.\n",
        "\n",
        "3. **Языково-зависимая токенизация**:\n",
        "   - Использует правила конкретного языка для правильного разбиения текста.\n",
        "   - Например, китайский текст требует специальных алгоритмов токенизации.\n",
        "\n"
      ],
      "metadata": {
        "id": "cZ2UfQxv1oCu"
      }
    },
    {
      "cell_type": "markdown",
      "source": [
        "##### 1.2. Библиотеки для токенизации\n",
        "\n",
        "##### 1.2.1. Библиотеки для токенизации английского языка\n",
        "\n",
        "1. **NLTK (Natural Language Toolkit)**:"
      ],
      "metadata": {
        "id": "yvjZcx-z13kd"
      }
    },
    {
      "cell_type": "markdown",
      "source": [],
      "metadata": {
        "id": "gdQ-zjwn6djc"
      }
    },
    {
      "cell_type": "code",
      "source": [
        "import nltk\n",
        "nltk.download('punkt')\n",
        "\n",
        "from nltk.tokenize import word_tokenize, sent_tokenize\n",
        "\n",
        "text = \"Hello, world! Let's learn tokenization.\"\n",
        "words = word_tokenize(text)\n",
        "sentences = sent_tokenize(text)\n",
        "print(\"Words:\", words)\n",
        "print(\"Sentences:\", sentences)"
      ],
      "metadata": {
        "colab": {
          "base_uri": "https://localhost:8080/"
        },
        "id": "hP9qjAsU1y59",
        "outputId": "82025067-cef0-4bc5-bb76-3a3fcd1bb941"
      },
      "execution_count": 4,
      "outputs": [
        {
          "output_type": "stream",
          "name": "stdout",
          "text": [
            "Words: ['Hello', ',', 'world', '!', 'Let', \"'s\", 'learn', 'tokenization', '.']\n",
            "Sentences: ['Hello, world!', \"Let's learn tokenization.\"]\n"
          ]
        },
        {
          "output_type": "stream",
          "name": "stderr",
          "text": [
            "[nltk_data] Downloading package punkt to /root/nltk_data...\n",
            "[nltk_data]   Package punkt is already up-to-date!\n"
          ]
        }
      ]
    },
    {
      "cell_type": "markdown",
      "source": [
        "2. **spaCy**:"
      ],
      "metadata": {
        "id": "TbNFOHh22ZbW"
      }
    },
    {
      "cell_type": "code",
      "source": [
        "import spacy\n",
        "\n",
        "nlp = spacy.load(\"en_core_web_sm\")\n",
        "doc = nlp(\"Hello, world! Let's learn tokenization.\")\n",
        "\n",
        "tokens = [token.text for token in doc]\n",
        "print(\"Tokens:\", tokens)"
      ],
      "metadata": {
        "colab": {
          "base_uri": "https://localhost:8080/"
        },
        "id": "ynEv1YJO2cMO",
        "outputId": "2b3ae5ab-a481-4645-9a1a-4741441074e6"
      },
      "execution_count": 5,
      "outputs": [
        {
          "output_type": "stream",
          "name": "stdout",
          "text": [
            "Tokens: ['Hello', ',', 'world', '!', 'Let', \"'s\", 'learn', 'tokenization', '.']\n"
          ]
        }
      ]
    },
    {
      "cell_type": "markdown",
      "source": [
        "3. **Tokenizer из библиотеки HuggingFace**:"
      ],
      "metadata": {
        "id": "_75qTt222jHO"
      }
    },
    {
      "cell_type": "code",
      "source": [
        "from transformers import AutoTokenizer\n",
        "\n",
        "tokenizer = AutoTokenizer.from_pretrained(\"bert-base-uncased\")\n",
        "text = \"Hello, world! Let's learn tokenization.\"\n",
        "tokens = tokenizer.tokenize(text)\n",
        "\n",
        "print(\"Tokens:\", tokens)"
      ],
      "metadata": {
        "colab": {
          "base_uri": "https://localhost:8080/",
          "height": 321,
          "referenced_widgets": [
            "424fb1153f3a493cbdb633fbadfaa0d0",
            "817770e691374fed83e0b4d1862a777d",
            "aa728e4104604538afae424b0f05038a",
            "4d1fd9cbd7824588aa840386ce1e76d8",
            "8135e89ecd5b4a44aace8a2bcdb27961",
            "14ef6678b4684e8f8d348ab76496f9ed",
            "6efac1ca92b4467c8df89f9711a1e6e3",
            "c9c8631f9bbb4b398a9e035225087904",
            "7b125e980a0842c4aaf99d2f14b89dcd",
            "74e15a43e0ae4e3dac12b4b7f6f2aa9d",
            "990be25183f04369a371ec4b402c837a",
            "af19eeb9f4b843d4ae3daa887523c9b2",
            "ac1567340ba34324b035567050a8a5b0",
            "ddd6f3983807462a894db6d10414b674",
            "5ee942a59ba2436f860b91abbea558fd",
            "e67aee0fc3a1423e891b80b6be323a1c",
            "0fa2e83005bc48929fd52f635bfc26aa",
            "34c7ac92ef9240c98a9d4280a3532df2",
            "5bfb11bbe9a747b699171376743b2d59",
            "6c4e0d6e66c44a679fab711c01e0638a",
            "f30ecd923a534ac0951b0bf50ef2c5e1",
            "9a18d0b4f6cf40cfbc979efc536a777a",
            "3f26d30e46444a7d8cb971a402122b3b",
            "d26dd289c2f04accb4f9050108de2462",
            "6e87667d2a414775b2edae5c9c81c816",
            "34220e720ff64d39a906d418c676f717",
            "26cb3e2b49d045e79b67bc766e0c3c01",
            "75ce438256c24e2795ad12617e3fd951",
            "0510375ef07a4f5f86e85d12297fdba2",
            "abd4704f985e48eb8beea921ebc3af5c",
            "e022d170c3fd4e1aa0c0f0831c30e8c4",
            "685e035861424b53a20e94ec3a02048d",
            "fa9b0c298a28418d989ecde7cc8b7c84",
            "97021f8f44cc4c429d7911eea3a03564",
            "db717ea071484ff1bd7b6ddfa65d4032",
            "f95f348150cc45d4bddc5a6e3a54dbb6",
            "2274de27cea8498e85a92ed2386a2855",
            "81cd4bc8ba2645b89d7dd248a46b1f51",
            "f06a0d990e6749cda6fd0aaf5e50fd05",
            "93a19d41b86e4c09b3b965b88ab1fa8b",
            "86367e15ce7e4ca083c80e2fdf967917",
            "aee7610fdc2c42ec9e53d9d3faecd23e",
            "254ea3f3038f49d29dc6c31682f63b52",
            "e4147ee94de144e09487b4e79de8b9a2"
          ]
        },
        "id": "6HCM1tq_2lGW",
        "outputId": "96dc5a9e-80e6-454e-9200-98537c24bf45"
      },
      "execution_count": 6,
      "outputs": [
        {
          "output_type": "stream",
          "name": "stderr",
          "text": [
            "/usr/local/lib/python3.10/dist-packages/huggingface_hub/utils/_token.py:89: UserWarning: \n",
            "The secret `HF_TOKEN` does not exist in your Colab secrets.\n",
            "To authenticate with the Hugging Face Hub, create a token in your settings tab (https://huggingface.co/settings/tokens), set it as secret in your Google Colab and restart your session.\n",
            "You will be able to reuse this secret in all of your notebooks.\n",
            "Please note that authentication is recommended but still optional to access public models or datasets.\n",
            "  warnings.warn(\n"
          ]
        },
        {
          "output_type": "display_data",
          "data": {
            "text/plain": [
              "tokenizer_config.json:   0%|          | 0.00/48.0 [00:00<?, ?B/s]"
            ],
            "application/vnd.jupyter.widget-view+json": {
              "version_major": 2,
              "version_minor": 0,
              "model_id": "424fb1153f3a493cbdb633fbadfaa0d0"
            }
          },
          "metadata": {}
        },
        {
          "output_type": "stream",
          "name": "stderr",
          "text": [
            "/usr/local/lib/python3.10/dist-packages/huggingface_hub/file_download.py:1132: FutureWarning: `resume_download` is deprecated and will be removed in version 1.0.0. Downloads always resume when possible. If you want to force a new download, use `force_download=True`.\n",
            "  warnings.warn(\n"
          ]
        },
        {
          "output_type": "display_data",
          "data": {
            "text/plain": [
              "config.json:   0%|          | 0.00/570 [00:00<?, ?B/s]"
            ],
            "application/vnd.jupyter.widget-view+json": {
              "version_major": 2,
              "version_minor": 0,
              "model_id": "af19eeb9f4b843d4ae3daa887523c9b2"
            }
          },
          "metadata": {}
        },
        {
          "output_type": "display_data",
          "data": {
            "text/plain": [
              "vocab.txt:   0%|          | 0.00/232k [00:00<?, ?B/s]"
            ],
            "application/vnd.jupyter.widget-view+json": {
              "version_major": 2,
              "version_minor": 0,
              "model_id": "3f26d30e46444a7d8cb971a402122b3b"
            }
          },
          "metadata": {}
        },
        {
          "output_type": "display_data",
          "data": {
            "text/plain": [
              "tokenizer.json:   0%|          | 0.00/466k [00:00<?, ?B/s]"
            ],
            "application/vnd.jupyter.widget-view+json": {
              "version_major": 2,
              "version_minor": 0,
              "model_id": "97021f8f44cc4c429d7911eea3a03564"
            }
          },
          "metadata": {}
        },
        {
          "output_type": "stream",
          "name": "stdout",
          "text": [
            "Tokens: ['hello', ',', 'world', '!', 'let', \"'\", 's', 'learn', 'token', '##ization', '.']\n"
          ]
        }
      ]
    },
    {
      "cell_type": "markdown",
      "source": [
        "##### 1.2.2. Библиотеки для токенизации русского языка"
      ],
      "metadata": {
        "id": "VyIU8Ceq4LKy"
      }
    },
    {
      "cell_type": "markdown",
      "source": [
        "**1. NLTK:**"
      ],
      "metadata": {
        "id": "AArU0i9D4QrL"
      }
    },
    {
      "cell_type": "code",
      "source": [
        "import nltk\n",
        "from nltk.tokenize import word_tokenize\n",
        "\n",
        "nltk.download('punkt')\n",
        "text = \"Привет, мир! Давайте учить токенизацию.\"\n",
        "words = word_tokenize(text, language='russian')\n",
        "\n",
        "print(\"Words:\", words)"
      ],
      "metadata": {
        "colab": {
          "base_uri": "https://localhost:8080/"
        },
        "id": "6HtVDXfN4LrL",
        "outputId": "d2dd4c5c-ff0c-44d1-b0da-c7c3f708459e"
      },
      "execution_count": 22,
      "outputs": [
        {
          "output_type": "stream",
          "name": "stdout",
          "text": [
            "Words: ['Привет', ',', 'мир', '!', 'Давайте', 'учить', 'токенизацию', '.']\n"
          ]
        },
        {
          "output_type": "stream",
          "name": "stderr",
          "text": [
            "[nltk_data] Downloading package punkt to /root/nltk_data...\n",
            "[nltk_data]   Package punkt is already up-to-date!\n"
          ]
        }
      ]
    },
    {
      "cell_type": "markdown",
      "source": [
        "**2. spaCy:**"
      ],
      "metadata": {
        "id": "ZtOz_Kex4VbA"
      }
    },
    {
      "cell_type": "code",
      "source": [
        "!pip install -U spacy\n",
        "!python -m spacy download ru_core_news_sm\n",
        "\n",
        "import spacy\n",
        "\n",
        "# Загрузка модели для русского языка\n",
        "nlp = spacy.load(\"ru_core_news_sm\")\n",
        "\n",
        "# Обработка текста на русском\n",
        "doc = nlp(\"Привет, мир! Давайте учить токенизацию.\")\n",
        "\n",
        "# Извлечение токенов\n",
        "tokens = [token.text for token in doc]\n",
        "\n",
        "print(\"Tokens:\", tokens)"
      ],
      "metadata": {
        "colab": {
          "base_uri": "https://localhost:8080/"
        },
        "id": "UCKvstbX4mOS",
        "outputId": "05cc36d9-3286-4b3e-8772-fcf178312bc0"
      },
      "execution_count": 14,
      "outputs": [
        {
          "output_type": "stream",
          "name": "stdout",
          "text": [
            "Requirement already satisfied: spacy in /usr/local/lib/python3.10/dist-packages (3.7.5)\n",
            "Requirement already satisfied: spacy-legacy<3.1.0,>=3.0.11 in /usr/local/lib/python3.10/dist-packages (from spacy) (3.0.12)\n",
            "Requirement already satisfied: spacy-loggers<2.0.0,>=1.0.0 in /usr/local/lib/python3.10/dist-packages (from spacy) (1.0.5)\n",
            "Requirement already satisfied: murmurhash<1.1.0,>=0.28.0 in /usr/local/lib/python3.10/dist-packages (from spacy) (1.0.10)\n",
            "Requirement already satisfied: cymem<2.1.0,>=2.0.2 in /usr/local/lib/python3.10/dist-packages (from spacy) (2.0.8)\n",
            "Requirement already satisfied: preshed<3.1.0,>=3.0.2 in /usr/local/lib/python3.10/dist-packages (from spacy) (3.0.9)\n",
            "Requirement already satisfied: thinc<8.3.0,>=8.2.2 in /usr/local/lib/python3.10/dist-packages (from spacy) (8.2.4)\n",
            "Requirement already satisfied: wasabi<1.2.0,>=0.9.1 in /usr/local/lib/python3.10/dist-packages (from spacy) (1.1.3)\n",
            "Requirement already satisfied: srsly<3.0.0,>=2.4.3 in /usr/local/lib/python3.10/dist-packages (from spacy) (2.4.8)\n",
            "Requirement already satisfied: catalogue<2.1.0,>=2.0.6 in /usr/local/lib/python3.10/dist-packages (from spacy) (2.0.10)\n",
            "Requirement already satisfied: weasel<0.5.0,>=0.1.0 in /usr/local/lib/python3.10/dist-packages (from spacy) (0.4.1)\n",
            "Requirement already satisfied: typer<1.0.0,>=0.3.0 in /usr/local/lib/python3.10/dist-packages (from spacy) (0.12.3)\n",
            "Requirement already satisfied: tqdm<5.0.0,>=4.38.0 in /usr/local/lib/python3.10/dist-packages (from spacy) (4.66.4)\n",
            "Requirement already satisfied: requests<3.0.0,>=2.13.0 in /usr/local/lib/python3.10/dist-packages (from spacy) (2.31.0)\n",
            "Requirement already satisfied: pydantic!=1.8,!=1.8.1,<3.0.0,>=1.7.4 in /usr/local/lib/python3.10/dist-packages (from spacy) (2.7.4)\n",
            "Requirement already satisfied: jinja2 in /usr/local/lib/python3.10/dist-packages (from spacy) (3.1.4)\n",
            "Requirement already satisfied: setuptools in /usr/local/lib/python3.10/dist-packages (from spacy) (67.7.2)\n",
            "Requirement already satisfied: packaging>=20.0 in /usr/local/lib/python3.10/dist-packages (from spacy) (24.1)\n",
            "Requirement already satisfied: langcodes<4.0.0,>=3.2.0 in /usr/local/lib/python3.10/dist-packages (from spacy) (3.4.0)\n",
            "Requirement already satisfied: numpy>=1.19.0 in /usr/local/lib/python3.10/dist-packages (from spacy) (1.25.2)\n",
            "Requirement already satisfied: language-data>=1.2 in /usr/local/lib/python3.10/dist-packages (from langcodes<4.0.0,>=3.2.0->spacy) (1.2.0)\n",
            "Requirement already satisfied: annotated-types>=0.4.0 in /usr/local/lib/python3.10/dist-packages (from pydantic!=1.8,!=1.8.1,<3.0.0,>=1.7.4->spacy) (0.7.0)\n",
            "Requirement already satisfied: pydantic-core==2.18.4 in /usr/local/lib/python3.10/dist-packages (from pydantic!=1.8,!=1.8.1,<3.0.0,>=1.7.4->spacy) (2.18.4)\n",
            "Requirement already satisfied: typing-extensions>=4.6.1 in /usr/local/lib/python3.10/dist-packages (from pydantic!=1.8,!=1.8.1,<3.0.0,>=1.7.4->spacy) (4.12.2)\n",
            "Requirement already satisfied: charset-normalizer<4,>=2 in /usr/local/lib/python3.10/dist-packages (from requests<3.0.0,>=2.13.0->spacy) (3.3.2)\n",
            "Requirement already satisfied: idna<4,>=2.5 in /usr/local/lib/python3.10/dist-packages (from requests<3.0.0,>=2.13.0->spacy) (3.7)\n",
            "Requirement already satisfied: urllib3<3,>=1.21.1 in /usr/local/lib/python3.10/dist-packages (from requests<3.0.0,>=2.13.0->spacy) (2.0.7)\n",
            "Requirement already satisfied: certifi>=2017.4.17 in /usr/local/lib/python3.10/dist-packages (from requests<3.0.0,>=2.13.0->spacy) (2024.6.2)\n",
            "Requirement already satisfied: blis<0.8.0,>=0.7.8 in /usr/local/lib/python3.10/dist-packages (from thinc<8.3.0,>=8.2.2->spacy) (0.7.11)\n",
            "Requirement already satisfied: confection<1.0.0,>=0.0.1 in /usr/local/lib/python3.10/dist-packages (from thinc<8.3.0,>=8.2.2->spacy) (0.1.5)\n",
            "Requirement already satisfied: click>=8.0.0 in /usr/local/lib/python3.10/dist-packages (from typer<1.0.0,>=0.3.0->spacy) (8.1.7)\n",
            "Requirement already satisfied: shellingham>=1.3.0 in /usr/local/lib/python3.10/dist-packages (from typer<1.0.0,>=0.3.0->spacy) (1.5.4)\n",
            "Requirement already satisfied: rich>=10.11.0 in /usr/local/lib/python3.10/dist-packages (from typer<1.0.0,>=0.3.0->spacy) (13.7.1)\n",
            "Requirement already satisfied: cloudpathlib<1.0.0,>=0.7.0 in /usr/local/lib/python3.10/dist-packages (from weasel<0.5.0,>=0.1.0->spacy) (0.18.1)\n",
            "Requirement already satisfied: smart-open<8.0.0,>=5.2.1 in /usr/local/lib/python3.10/dist-packages (from weasel<0.5.0,>=0.1.0->spacy) (7.0.4)\n",
            "Requirement already satisfied: MarkupSafe>=2.0 in /usr/local/lib/python3.10/dist-packages (from jinja2->spacy) (2.1.5)\n",
            "Requirement already satisfied: marisa-trie>=0.7.7 in /usr/local/lib/python3.10/dist-packages (from language-data>=1.2->langcodes<4.0.0,>=3.2.0->spacy) (1.2.0)\n",
            "Requirement already satisfied: markdown-it-py>=2.2.0 in /usr/local/lib/python3.10/dist-packages (from rich>=10.11.0->typer<1.0.0,>=0.3.0->spacy) (3.0.0)\n",
            "Requirement already satisfied: pygments<3.0.0,>=2.13.0 in /usr/local/lib/python3.10/dist-packages (from rich>=10.11.0->typer<1.0.0,>=0.3.0->spacy) (2.16.1)\n",
            "Requirement already satisfied: wrapt in /usr/local/lib/python3.10/dist-packages (from smart-open<8.0.0,>=5.2.1->weasel<0.5.0,>=0.1.0->spacy) (1.14.1)\n",
            "Requirement already satisfied: mdurl~=0.1 in /usr/local/lib/python3.10/dist-packages (from markdown-it-py>=2.2.0->rich>=10.11.0->typer<1.0.0,>=0.3.0->spacy) (0.1.2)\n",
            "Collecting ru-core-news-sm==3.7.0\n",
            "  Downloading https://github.com/explosion/spacy-models/releases/download/ru_core_news_sm-3.7.0/ru_core_news_sm-3.7.0-py3-none-any.whl (15.3 MB)\n",
            "\u001b[2K     \u001b[90m━━━━━━━━━━━━━━━━━━━━━━━━━━━━━━━━━━━━━━━━\u001b[0m \u001b[32m15.3/15.3 MB\u001b[0m \u001b[31m37.0 MB/s\u001b[0m eta \u001b[36m0:00:00\u001b[0m\n",
            "\u001b[?25hRequirement already satisfied: spacy<3.8.0,>=3.7.0 in /usr/local/lib/python3.10/dist-packages (from ru-core-news-sm==3.7.0) (3.7.5)\n",
            "Collecting pymorphy3>=1.0.0 (from ru-core-news-sm==3.7.0)\n",
            "  Downloading pymorphy3-2.0.1-py3-none-any.whl (53 kB)\n",
            "\u001b[2K     \u001b[90m━━━━━━━━━━━━━━━━━━━━━━━━━━━━━━━━━━━━━━━━\u001b[0m \u001b[32m53.2/53.2 kB\u001b[0m \u001b[31m839.8 kB/s\u001b[0m eta \u001b[36m0:00:00\u001b[0m\n",
            "\u001b[?25hCollecting dawg-python>=0.7.1 (from pymorphy3>=1.0.0->ru-core-news-sm==3.7.0)\n",
            "  Downloading DAWG_Python-0.7.2-py2.py3-none-any.whl (11 kB)\n",
            "Collecting pymorphy3-dicts-ru (from pymorphy3>=1.0.0->ru-core-news-sm==3.7.0)\n",
            "  Downloading pymorphy3_dicts_ru-2.4.417150.4580142-py2.py3-none-any.whl (8.4 MB)\n",
            "\u001b[2K     \u001b[90m━━━━━━━━━━━━━━━━━━━━━━━━━━━━━━━━━━━━━━━━\u001b[0m \u001b[32m8.4/8.4 MB\u001b[0m \u001b[31m23.1 MB/s\u001b[0m eta \u001b[36m0:00:00\u001b[0m\n",
            "\u001b[?25hRequirement already satisfied: spacy-legacy<3.1.0,>=3.0.11 in /usr/local/lib/python3.10/dist-packages (from spacy<3.8.0,>=3.7.0->ru-core-news-sm==3.7.0) (3.0.12)\n",
            "Requirement already satisfied: spacy-loggers<2.0.0,>=1.0.0 in /usr/local/lib/python3.10/dist-packages (from spacy<3.8.0,>=3.7.0->ru-core-news-sm==3.7.0) (1.0.5)\n",
            "Requirement already satisfied: murmurhash<1.1.0,>=0.28.0 in /usr/local/lib/python3.10/dist-packages (from spacy<3.8.0,>=3.7.0->ru-core-news-sm==3.7.0) (1.0.10)\n",
            "Requirement already satisfied: cymem<2.1.0,>=2.0.2 in /usr/local/lib/python3.10/dist-packages (from spacy<3.8.0,>=3.7.0->ru-core-news-sm==3.7.0) (2.0.8)\n",
            "Requirement already satisfied: preshed<3.1.0,>=3.0.2 in /usr/local/lib/python3.10/dist-packages (from spacy<3.8.0,>=3.7.0->ru-core-news-sm==3.7.0) (3.0.9)\n",
            "Requirement already satisfied: thinc<8.3.0,>=8.2.2 in /usr/local/lib/python3.10/dist-packages (from spacy<3.8.0,>=3.7.0->ru-core-news-sm==3.7.0) (8.2.4)\n",
            "Requirement already satisfied: wasabi<1.2.0,>=0.9.1 in /usr/local/lib/python3.10/dist-packages (from spacy<3.8.0,>=3.7.0->ru-core-news-sm==3.7.0) (1.1.3)\n",
            "Requirement already satisfied: srsly<3.0.0,>=2.4.3 in /usr/local/lib/python3.10/dist-packages (from spacy<3.8.0,>=3.7.0->ru-core-news-sm==3.7.0) (2.4.8)\n",
            "Requirement already satisfied: catalogue<2.1.0,>=2.0.6 in /usr/local/lib/python3.10/dist-packages (from spacy<3.8.0,>=3.7.0->ru-core-news-sm==3.7.0) (2.0.10)\n",
            "Requirement already satisfied: weasel<0.5.0,>=0.1.0 in /usr/local/lib/python3.10/dist-packages (from spacy<3.8.0,>=3.7.0->ru-core-news-sm==3.7.0) (0.4.1)\n",
            "Requirement already satisfied: typer<1.0.0,>=0.3.0 in /usr/local/lib/python3.10/dist-packages (from spacy<3.8.0,>=3.7.0->ru-core-news-sm==3.7.0) (0.12.3)\n",
            "Requirement already satisfied: tqdm<5.0.0,>=4.38.0 in /usr/local/lib/python3.10/dist-packages (from spacy<3.8.0,>=3.7.0->ru-core-news-sm==3.7.0) (4.66.4)\n",
            "Requirement already satisfied: requests<3.0.0,>=2.13.0 in /usr/local/lib/python3.10/dist-packages (from spacy<3.8.0,>=3.7.0->ru-core-news-sm==3.7.0) (2.31.0)\n",
            "Requirement already satisfied: pydantic!=1.8,!=1.8.1,<3.0.0,>=1.7.4 in /usr/local/lib/python3.10/dist-packages (from spacy<3.8.0,>=3.7.0->ru-core-news-sm==3.7.0) (2.7.4)\n",
            "Requirement already satisfied: jinja2 in /usr/local/lib/python3.10/dist-packages (from spacy<3.8.0,>=3.7.0->ru-core-news-sm==3.7.0) (3.1.4)\n",
            "Requirement already satisfied: setuptools in /usr/local/lib/python3.10/dist-packages (from spacy<3.8.0,>=3.7.0->ru-core-news-sm==3.7.0) (67.7.2)\n",
            "Requirement already satisfied: packaging>=20.0 in /usr/local/lib/python3.10/dist-packages (from spacy<3.8.0,>=3.7.0->ru-core-news-sm==3.7.0) (24.1)\n",
            "Requirement already satisfied: langcodes<4.0.0,>=3.2.0 in /usr/local/lib/python3.10/dist-packages (from spacy<3.8.0,>=3.7.0->ru-core-news-sm==3.7.0) (3.4.0)\n",
            "Requirement already satisfied: numpy>=1.19.0 in /usr/local/lib/python3.10/dist-packages (from spacy<3.8.0,>=3.7.0->ru-core-news-sm==3.7.0) (1.25.2)\n",
            "Requirement already satisfied: language-data>=1.2 in /usr/local/lib/python3.10/dist-packages (from langcodes<4.0.0,>=3.2.0->spacy<3.8.0,>=3.7.0->ru-core-news-sm==3.7.0) (1.2.0)\n",
            "Requirement already satisfied: annotated-types>=0.4.0 in /usr/local/lib/python3.10/dist-packages (from pydantic!=1.8,!=1.8.1,<3.0.0,>=1.7.4->spacy<3.8.0,>=3.7.0->ru-core-news-sm==3.7.0) (0.7.0)\n",
            "Requirement already satisfied: pydantic-core==2.18.4 in /usr/local/lib/python3.10/dist-packages (from pydantic!=1.8,!=1.8.1,<3.0.0,>=1.7.4->spacy<3.8.0,>=3.7.0->ru-core-news-sm==3.7.0) (2.18.4)\n",
            "Requirement already satisfied: typing-extensions>=4.6.1 in /usr/local/lib/python3.10/dist-packages (from pydantic!=1.8,!=1.8.1,<3.0.0,>=1.7.4->spacy<3.8.0,>=3.7.0->ru-core-news-sm==3.7.0) (4.12.2)\n",
            "Requirement already satisfied: charset-normalizer<4,>=2 in /usr/local/lib/python3.10/dist-packages (from requests<3.0.0,>=2.13.0->spacy<3.8.0,>=3.7.0->ru-core-news-sm==3.7.0) (3.3.2)\n",
            "Requirement already satisfied: idna<4,>=2.5 in /usr/local/lib/python3.10/dist-packages (from requests<3.0.0,>=2.13.0->spacy<3.8.0,>=3.7.0->ru-core-news-sm==3.7.0) (3.7)\n",
            "Requirement already satisfied: urllib3<3,>=1.21.1 in /usr/local/lib/python3.10/dist-packages (from requests<3.0.0,>=2.13.0->spacy<3.8.0,>=3.7.0->ru-core-news-sm==3.7.0) (2.0.7)\n",
            "Requirement already satisfied: certifi>=2017.4.17 in /usr/local/lib/python3.10/dist-packages (from requests<3.0.0,>=2.13.0->spacy<3.8.0,>=3.7.0->ru-core-news-sm==3.7.0) (2024.6.2)\n",
            "Requirement already satisfied: blis<0.8.0,>=0.7.8 in /usr/local/lib/python3.10/dist-packages (from thinc<8.3.0,>=8.2.2->spacy<3.8.0,>=3.7.0->ru-core-news-sm==3.7.0) (0.7.11)\n",
            "Requirement already satisfied: confection<1.0.0,>=0.0.1 in /usr/local/lib/python3.10/dist-packages (from thinc<8.3.0,>=8.2.2->spacy<3.8.0,>=3.7.0->ru-core-news-sm==3.7.0) (0.1.5)\n",
            "Requirement already satisfied: click>=8.0.0 in /usr/local/lib/python3.10/dist-packages (from typer<1.0.0,>=0.3.0->spacy<3.8.0,>=3.7.0->ru-core-news-sm==3.7.0) (8.1.7)\n",
            "Requirement already satisfied: shellingham>=1.3.0 in /usr/local/lib/python3.10/dist-packages (from typer<1.0.0,>=0.3.0->spacy<3.8.0,>=3.7.0->ru-core-news-sm==3.7.0) (1.5.4)\n",
            "Requirement already satisfied: rich>=10.11.0 in /usr/local/lib/python3.10/dist-packages (from typer<1.0.0,>=0.3.0->spacy<3.8.0,>=3.7.0->ru-core-news-sm==3.7.0) (13.7.1)\n",
            "Requirement already satisfied: cloudpathlib<1.0.0,>=0.7.0 in /usr/local/lib/python3.10/dist-packages (from weasel<0.5.0,>=0.1.0->spacy<3.8.0,>=3.7.0->ru-core-news-sm==3.7.0) (0.18.1)\n",
            "Requirement already satisfied: smart-open<8.0.0,>=5.2.1 in /usr/local/lib/python3.10/dist-packages (from weasel<0.5.0,>=0.1.0->spacy<3.8.0,>=3.7.0->ru-core-news-sm==3.7.0) (7.0.4)\n",
            "Requirement already satisfied: MarkupSafe>=2.0 in /usr/local/lib/python3.10/dist-packages (from jinja2->spacy<3.8.0,>=3.7.0->ru-core-news-sm==3.7.0) (2.1.5)\n",
            "Requirement already satisfied: marisa-trie>=0.7.7 in /usr/local/lib/python3.10/dist-packages (from language-data>=1.2->langcodes<4.0.0,>=3.2.0->spacy<3.8.0,>=3.7.0->ru-core-news-sm==3.7.0) (1.2.0)\n",
            "Requirement already satisfied: markdown-it-py>=2.2.0 in /usr/local/lib/python3.10/dist-packages (from rich>=10.11.0->typer<1.0.0,>=0.3.0->spacy<3.8.0,>=3.7.0->ru-core-news-sm==3.7.0) (3.0.0)\n",
            "Requirement already satisfied: pygments<3.0.0,>=2.13.0 in /usr/local/lib/python3.10/dist-packages (from rich>=10.11.0->typer<1.0.0,>=0.3.0->spacy<3.8.0,>=3.7.0->ru-core-news-sm==3.7.0) (2.16.1)\n",
            "Requirement already satisfied: wrapt in /usr/local/lib/python3.10/dist-packages (from smart-open<8.0.0,>=5.2.1->weasel<0.5.0,>=0.1.0->spacy<3.8.0,>=3.7.0->ru-core-news-sm==3.7.0) (1.14.1)\n",
            "Requirement already satisfied: mdurl~=0.1 in /usr/local/lib/python3.10/dist-packages (from markdown-it-py>=2.2.0->rich>=10.11.0->typer<1.0.0,>=0.3.0->spacy<3.8.0,>=3.7.0->ru-core-news-sm==3.7.0) (0.1.2)\n",
            "Installing collected packages: pymorphy3-dicts-ru, dawg-python, pymorphy3, ru-core-news-sm\n",
            "Successfully installed dawg-python-0.7.2 pymorphy3-2.0.1 pymorphy3-dicts-ru-2.4.417150.4580142 ru-core-news-sm-3.7.0\n",
            "\u001b[38;5;2m✔ Download and installation successful\u001b[0m\n",
            "You can now load the package via spacy.load('ru_core_news_sm')\n",
            "\u001b[38;5;3m⚠ Restart to reload dependencies\u001b[0m\n",
            "If you are in a Jupyter or Colab notebook, you may need to restart Python in\n",
            "order to load all the package's dependencies. You can do this by selecting the\n",
            "'Restart kernel' or 'Restart runtime' option.\n",
            "Tokens: ['Привет', ',', 'мир', '!', 'Давайте', 'учить', 'токенизацию', '.']\n"
          ]
        }
      ]
    },
    {
      "cell_type": "markdown",
      "source": [
        "**3. Razdel:**"
      ],
      "metadata": {
        "id": "y-VjY5ds48Pl"
      }
    },
    {
      "cell_type": "code",
      "source": [
        "!pip install razdel\n",
        "\n",
        "from razdel import tokenize\n",
        "\n",
        "text = \"Привет, мир! Давайте учить токенизацию.\"\n",
        "tokens = [token.text for token in tokenize(text)]\n",
        "print(\"Tokens:\", tokens)"
      ],
      "metadata": {
        "colab": {
          "base_uri": "https://localhost:8080/"
        },
        "id": "1pgcSLRg5BgD",
        "outputId": "cb3cebfd-d841-40d2-fc16-cd7874c31430"
      },
      "execution_count": 16,
      "outputs": [
        {
          "output_type": "stream",
          "name": "stdout",
          "text": [
            "Collecting razdel\n",
            "  Downloading razdel-0.5.0-py3-none-any.whl (21 kB)\n",
            "Installing collected packages: razdel\n",
            "Successfully installed razdel-0.5.0\n",
            "Tokens: ['Привет', ',', 'мир', '!', 'Давайте', 'учить', 'токенизацию', '.']\n"
          ]
        }
      ]
    },
    {
      "cell_type": "markdown",
      "source": [
        "### 1.2.3. Токенизация для татарского языка\n",
        "Для татарского языка меньше доступных библиотек, но можно использовать подходы и инструменты, поддерживающие обработку кириллических текстов."
      ],
      "metadata": {
        "id": "fb3ICm_65PdF"
      }
    },
    {
      "cell_type": "markdown",
      "source": [
        "**1. NLTK:**"
      ],
      "metadata": {
        "id": "N_ySy_9D5be3"
      }
    },
    {
      "cell_type": "code",
      "source": [
        "import nltk\n",
        "from nltk.tokenize import word_tokenize\n",
        "\n",
        "nltk.download('punkt')\n",
        "text = \"Сәлам, дөнья! Әйдәгез, токенизацияне өйрәнәбез.\"\n",
        "words = word_tokenize(text, language='russian')  # Поддержка кириллического текста\n",
        "\n",
        "print(\"Words:\", words)"
      ],
      "metadata": {
        "colab": {
          "base_uri": "https://localhost:8080/"
        },
        "id": "7o6cUxtg5crx",
        "outputId": "84c97c86-0b54-4e75-e397-10c870b7d254"
      },
      "execution_count": 23,
      "outputs": [
        {
          "output_type": "stream",
          "name": "stdout",
          "text": [
            "Words: ['Сәлам', ',', 'дөнья', '!', 'Әйдәгез', ',', 'токенизацияне', 'өйрәнәбез', '.']\n"
          ]
        },
        {
          "output_type": "stream",
          "name": "stderr",
          "text": [
            "[nltk_data] Downloading package punkt to /root/nltk_data...\n",
            "[nltk_data]   Package punkt is already up-to-date!\n"
          ]
        }
      ]
    },
    {
      "cell_type": "markdown",
      "source": [
        "**2. Custom Tokenization with Regular Expressions:**"
      ],
      "metadata": {
        "id": "fHgDAHpU5g9v"
      }
    },
    {
      "cell_type": "code",
      "source": [
        "import re\n",
        "\n",
        "text = \"Сәлам, дөнья! Әйдәгез, токенизацияне өйрәнәбез.\"\n",
        "tokens = re.findall(r'\\w+', text)\n",
        "print(\"Tokens:\", tokens)"
      ],
      "metadata": {
        "colab": {
          "base_uri": "https://localhost:8080/"
        },
        "id": "odeO4ogv5kxI",
        "outputId": "7eef284a-6706-4c15-cc03-484f80849606"
      },
      "execution_count": 18,
      "outputs": [
        {
          "output_type": "stream",
          "name": "stdout",
          "text": [
            "Tokens: ['Сәлам', 'дөнья', 'Әйдәгез', 'токенизацияне', 'өйрәнәбез']\n"
          ]
        }
      ]
    },
    {
      "cell_type": "markdown",
      "source": [
        "\n",
        "##### 1.3. Трудности токенизации\n",
        "\n",
        "- Обработка сокращений и апострофов.\n",
        "- Разделение слов с дефисами.\n",
        "- Обработка чисел и специальных символов.\n",
        "\n",
        "####  2. Стемминг\n",
        "\n",
        "Стемминг — это процесс уменьшения слов до их корневой формы. Цель стемминга — устранить разные формы одного и того же слова.\n",
        "\n",
        "##### 2.1. Основные алгоритмы стемминга\n",
        "\n",
        "1. **Алгоритм Портера**:\n",
        "   - Один из самых известных и часто используемых алгоритмов стемминга.\n",
        "   - Применяет последовательность правил для сокращения слов.\n",
        "\n",
        "2. **Алгоритм Ловинса**:\n",
        "   - Один из первых алгоритмов стемминга.\n",
        "   - Использует единственное правило для каждой группы суффиксов.\n",
        "\n",
        "3. **Алгоритм Snowball**:\n",
        "   - Расширение алгоритма Портера.\n",
        "   - Поддерживает несколько языков.\n",
        "\n"
      ],
      "metadata": {
        "id": "wq4LI1Sk1ur8"
      }
    },
    {
      "cell_type": "markdown",
      "source": [
        "##### 2.2. Библиотеки для стемминга"
      ],
      "metadata": {
        "id": "BJSGmnZj22ne"
      }
    },
    {
      "cell_type": "markdown",
      "source": [
        "##### 2.2.1. Стемминг для англлийского  языка\n",
        "\n",
        "1. **NLTK**:"
      ],
      "metadata": {
        "id": "C15MjKVa27es"
      }
    },
    {
      "cell_type": "code",
      "source": [
        "from nltk.stem import PorterStemmer\n",
        "\n",
        "stemmer = PorterStemmer()\n",
        "words = [\"running\", \"ran\", \"runner\"]\n",
        "stems = [stemmer.stem(word) for word in words]\n",
        "\n",
        "print(\"Stems:\", stems)"
      ],
      "metadata": {
        "colab": {
          "base_uri": "https://localhost:8080/"
        },
        "id": "wa5mQQzi3BdC",
        "outputId": "110669a4-bef2-499b-abeb-8ff2f12c9f25"
      },
      "execution_count": 7,
      "outputs": [
        {
          "output_type": "stream",
          "name": "stdout",
          "text": [
            "Stems: ['run', 'ran', 'runner']\n"
          ]
        }
      ]
    },
    {
      "cell_type": "markdown",
      "source": [
        "\n",
        "2. **SnowballStemmer в NLTK**:\n"
      ],
      "metadata": {
        "id": "XYTDL3zm3VXT"
      }
    },
    {
      "cell_type": "code",
      "source": [
        "from nltk.stem.snowball import SnowballStemmer\n",
        "\n",
        "stemmer = SnowballStemmer(\"english\")\n",
        "words = [\"running\", \"ran\", \"runner\"]\n",
        "stems = [stemmer.stem(word) for word in words]\n",
        "\n",
        "print(\"Stems:\", stems)"
      ],
      "metadata": {
        "colab": {
          "base_uri": "https://localhost:8080/"
        },
        "id": "4Iv9IuRU3YjQ",
        "outputId": "8a487157-b6a7-4860-a502-aa1bba3014af"
      },
      "execution_count": 8,
      "outputs": [
        {
          "output_type": "stream",
          "name": "stdout",
          "text": [
            "Stems: ['run', 'ran', 'runner']\n"
          ]
        }
      ]
    },
    {
      "cell_type": "markdown",
      "source": [
        "3. **PyStemmer**:"
      ],
      "metadata": {
        "id": "kdopkThp3fJT"
      }
    },
    {
      "cell_type": "code",
      "source": [
        "import nltk\n",
        "from nltk.stem import PorterStemmer\n",
        "\n",
        "# Создание объекта-стеммера\n",
        "stemmer = PorterStemmer()\n",
        "\n",
        "# Список слов для стемминга\n",
        "words = [\"running\", \"ran\", \"runner\"]\n",
        "\n",
        "# Выполнение стемминга\n",
        "stems = [stemmer.stem(word) for word in words]\n",
        "\n",
        "print(\"Stems:\", stems)"
      ],
      "metadata": {
        "colab": {
          "base_uri": "https://localhost:8080/"
        },
        "id": "zOE2qB7y3icf",
        "outputId": "f65657d4-a224-4a86-c0c3-b5a0cd02f2da"
      },
      "execution_count": 10,
      "outputs": [
        {
          "output_type": "stream",
          "name": "stdout",
          "text": [
            "Stems: ['run', 'ran', 'runner']\n"
          ]
        }
      ]
    },
    {
      "cell_type": "markdown",
      "source": [
        "##### 2.2.2. Библиотеки для стемминга русского языка\n"
      ],
      "metadata": {
        "id": "g-ih2QVy508g"
      }
    },
    {
      "cell_type": "markdown",
      "source": [
        "**1. SnowballStemmer в NLTK:**"
      ],
      "metadata": {
        "id": "4aunCyjZ56NL"
      }
    },
    {
      "cell_type": "code",
      "source": [
        "from nltk.stem.snowball import SnowballStemmer\n",
        "\n",
        "stemmer = SnowballStemmer(\"russian\")\n",
        "words = [\"бегущий\", \"бежал\", \"бегун\"]\n",
        "stems = [stemmer.stem(word) for word in words]\n",
        "\n",
        "print(\"Stems:\", stems)"
      ],
      "metadata": {
        "colab": {
          "base_uri": "https://localhost:8080/"
        },
        "id": "umbdgVcX57MI",
        "outputId": "1db75abd-8c42-43d2-8bce-910d7c27054e"
      },
      "execution_count": 19,
      "outputs": [
        {
          "output_type": "stream",
          "name": "stdout",
          "text": [
            "Stems: ['бегущ', 'бежа', 'бегун']\n"
          ]
        }
      ]
    },
    {
      "cell_type": "markdown",
      "source": [
        "**2. pymystem3:**"
      ],
      "metadata": {
        "id": "oFjvbVTj5_PW"
      }
    },
    {
      "cell_type": "code",
      "source": [
        "from pymystem3 import Mystem\n",
        "\n",
        "mystem = Mystem()\n",
        "words = \"бегущий бежал бегун\"\n",
        "stems = mystem.lemmatize(words)\n",
        "\n",
        "print(\"Stems:\", stems)"
      ],
      "metadata": {
        "colab": {
          "base_uri": "https://localhost:8080/"
        },
        "id": "zQHINDoE6B_r",
        "outputId": "a76a3f8a-fb4a-4623-a899-a852c6f48563"
      },
      "execution_count": 20,
      "outputs": [
        {
          "output_type": "stream",
          "name": "stderr",
          "text": [
            "Installing mystem to /root/.local/bin/mystem from http://download.cdn.yandex.net/mystem/mystem-3.1-linux-64bit.tar.gz\n"
          ]
        },
        {
          "output_type": "stream",
          "name": "stdout",
          "text": [
            "Stems: ['бежать', ' ', 'бежать', ' ', 'бегун', '\\n']\n"
          ]
        }
      ]
    },
    {
      "cell_type": "markdown",
      "source": [
        "##### 2.2.3. Стемминг для татарского языка\n",
        "Для татарского языка нет широко известных библиотек для стемминга, поэтому приходится использовать адаптированные методы."
      ],
      "metadata": {
        "id": "Pd14nOdc6ICs"
      }
    },
    {
      "cell_type": "code",
      "source": [
        "from nltk.stem.snowball import SnowballStemmer\n",
        "\n",
        "# Стеммер для русского языка, так как татарский язык не поддерживается напрямую\n",
        "stemmer = SnowballStemmer(\"russian\")\n",
        "words = [\"йөгерүче\", \"йөгерде\", \"йөгерүче\"]\n",
        "stems = [stemmer.stem(word) for word in words]\n",
        "\n",
        "print(\"Stems:\", stems)"
      ],
      "metadata": {
        "colab": {
          "base_uri": "https://localhost:8080/"
        },
        "id": "Hufq7h1V6Nt4",
        "outputId": "f9dfc441-bfc9-4f5a-87f1-1bbd89bc60f2"
      },
      "execution_count": 21,
      "outputs": [
        {
          "output_type": "stream",
          "name": "stdout",
          "text": [
            "Stems: ['йөгерүч', 'йөгерд', 'йөгерүч']\n"
          ]
        }
      ]
    },
    {
      "cell_type": "markdown",
      "source": [
        "\n",
        "\n",
        "##### 2.3. Трудности стемминга\n",
        "\n",
        "- Потеря информации: слово \"running\" и \"ran\" будут приведены к одному стему \"run\".\n",
        "- Возможные ошибки: стемминг не всегда дает осмысленные корни, особенно для сложных слов.\n",
        "\n",
        "Таким образом, токенизация и стемминг — важные шаги в обработке текста, которые помогают в анализе и понимании данных. Выбор метода и инструмента зависит от конкретной задачи и языка текста. Понимание этих процессов и их ограничений позволяет улучшить качество моделей и приложений, работающих с текстовыми данными."
      ],
      "metadata": {
        "id": "qMdCoF1B2zDD"
      }
    },
    {
      "cell_type": "markdown",
      "source": [
        "### 2.4. Удаление стоп-слов и нормализация текста\n",
        "\n",
        "Стоп-слова (stop words) - это слова, которые часто встречаются в тексте, но несут мало смысловой нагрузки. Примерами стоп-слов в русском языке могут быть слова \"и\", \"в\", \"на\", \"не\", \"это\" и другие.\n",
        "\n",
        "Удаление стоп-слов - это важный шаг в предобработке текста, который помогает сосредоточиться на наиболее значимых словах при последующем анализе.\n",
        "\n",
        "**Зачем нужно удалять стоп-слова?**\n",
        "\n",
        "- Уменьшение размерности: Удаление стоп-слов уменьшает количество слов, с которыми нам нужно работать, что упрощает и ускоряет последующие этапы обработки.\n",
        "- Улучшение качества анализа: Стоп-слова могут затруднять многие задачи обработки текста, такие как определение тональности, классификация текста и извлечение ключевых фраз. Их удаление помогает сосредоточиться на более информативных словах.\n",
        "- Повышение эффективности: Многие алгоритмы анализа текста работают эффективнее, если исключить из рассмотрения стоп-слова, которые часто встречаются, но несут мало смысловой нагрузки.\n",
        "\n",
        "### 2.4.1. Удаление стоп-слов для английского языка\n",
        "\n",
        "Стоп-словами в английском языке являются такие распространенные слова, как \"the\", \"a\", \"and\", \"is\", \"in\" и другие. Эти слова часто встречаются в тексте, но имеют небольшую смысловую нагрузку. Удаление таких слов может улучшить эффективность последующих этапов анализа текста.\n",
        "\n",
        "Пример удаления стоп-слов для английского текста:\n",
        "\n"
      ],
      "metadata": {
        "id": "Xgf49o2F9oIF"
      }
    },
    {
      "cell_type": "code",
      "source": [
        "from nltk.corpus import stopwords\n",
        "import nltk\n",
        "nltk.download('stopwords')\n",
        "\n",
        "text = \"The quick brown fox jumps over the lazy dog.\"\n",
        "tokens = nltk.word_tokenize(text)\n",
        "\n",
        "# Загружаем стоп-слова для английского языка\n",
        "en_stopwords = stopwords.words('english')\n",
        "\n",
        "# Удаляем стоп-слова\n",
        "filtered_tokens = [token for token in tokens if token.lower() not in en_stopwords]\n",
        "\n",
        "print(\"Original Tokens:\", tokens)\n",
        "print(\"Filtered Tokens:\", filtered_tokens)"
      ],
      "metadata": {
        "colab": {
          "base_uri": "https://localhost:8080/"
        },
        "id": "nuNCsgs0_oHa",
        "outputId": "3bf00970-c9f4-465b-ec7a-b6e0f69540d6"
      },
      "execution_count": 25,
      "outputs": [
        {
          "output_type": "stream",
          "name": "stdout",
          "text": [
            "Original Tokens: ['The', 'quick', 'brown', 'fox', 'jumps', 'over', 'the', 'lazy', 'dog', '.']\n",
            "Filtered Tokens: ['quick', 'brown', 'fox', 'jumps', 'lazy', 'dog', '.']\n"
          ]
        },
        {
          "output_type": "stream",
          "name": "stderr",
          "text": [
            "[nltk_data] Downloading package stopwords to /root/nltk_data...\n",
            "[nltk_data]   Unzipping corpora/stopwords.zip.\n"
          ]
        }
      ]
    },
    {
      "cell_type": "markdown",
      "source": [
        "#### 2.4.2. Удаление стоп-слов для русского языка\n",
        "Для русского языка список стоп-слов может включать такие слова, как \"и\", \"в\", \"на\", \"не\", \"это\" и другие. Ниже приведен пример удаления стоп-слов из русского текста:"
      ],
      "metadata": {
        "id": "AItPRwZk_gZA"
      }
    },
    {
      "cell_type": "code",
      "source": [
        "!pip install pymorphy2\n",
        "from nltk.corpus import stopwords\n",
        "import pymorphy2\n",
        "\n",
        "text = \"Это простой пример удаления стоп-слов из русского текста.\"\n",
        "\n",
        "tokens = [token.text for token in tokenize(text)]\n",
        "\n",
        "# Загружаем стоп-слова для русского языка\n",
        "ru_stopwords = stopwords.words('russian')\n",
        "\n",
        "# Удаляем стоп-слова\n",
        "filtered_tokens = [token for token in tokens if token.lower() not in ru_stopwords]\n",
        "\n",
        "print(\"Original Tokens:\", tokens)\n",
        "print(\"Filtered Tokens:\", filtered_tokens)"
      ],
      "metadata": {
        "colab": {
          "base_uri": "https://localhost:8080/"
        },
        "id": "1mAaKsxZ__xQ",
        "outputId": "b53f1eda-0cdc-4e1a-8660-577bff40f031"
      },
      "execution_count": 28,
      "outputs": [
        {
          "output_type": "stream",
          "name": "stdout",
          "text": [
            "Requirement already satisfied: pymorphy2 in /usr/local/lib/python3.10/dist-packages (0.9.1)\n",
            "Requirement already satisfied: dawg-python>=0.7.1 in /usr/local/lib/python3.10/dist-packages (from pymorphy2) (0.7.2)\n",
            "Requirement already satisfied: pymorphy2-dicts-ru<3.0,>=2.4 in /usr/local/lib/python3.10/dist-packages (from pymorphy2) (2.4.417127.4579844)\n",
            "Requirement already satisfied: docopt>=0.6 in /usr/local/lib/python3.10/dist-packages (from pymorphy2) (0.6.2)\n",
            "Original Tokens: ['Это', 'простой', 'пример', 'удаления', 'стоп-слов', 'из', 'русского', 'текста', '.']\n",
            "Filtered Tokens: ['Это', 'простой', 'пример', 'удаления', 'стоп-слов', 'русского', 'текста', '.']\n"
          ]
        }
      ]
    },
    {
      "cell_type": "markdown",
      "source": [
        "#### 2.2. Нормализация текста\n",
        "Нормализация включает несколько этапов, таких как приведение слов к нижнему регистру, стемминг и лемматизация."
      ],
      "metadata": {
        "id": "EdmjTMr_Bse8"
      }
    },
    {
      "cell_type": "code",
      "source": [
        "text = \"Привет, Мир!\"\n",
        "normalized_text = text.lower()\n",
        "print(\"Normalized text:\", normalized_text)"
      ],
      "metadata": {
        "colab": {
          "base_uri": "https://localhost:8080/"
        },
        "id": "R2THj_sIB7uD",
        "outputId": "a8e13cec-0268-4ba0-dfcc-04227977a883"
      },
      "execution_count": 29,
      "outputs": [
        {
          "output_type": "stream",
          "name": "stdout",
          "text": [
            "Normalized text: привет, мир!\n"
          ]
        }
      ]
    },
    {
      "cell_type": "markdown",
      "source": [
        "#### 2.5.  Частеречная разметка (Part-of-Speech tagging)\n",
        "\n",
        "Частеречная разметка (Part-of-Speech tagging, POS tagging) — это процесс присвоения каждому слову в тексте соответствующей части речи на основе его контекста и грамматических характеристик.\n",
        "\n",
        "#### Зачем нужна частеречная разметка?\n",
        "\n",
        "Частеречная разметка играет ключевую роль в обработке естественного языка, так как она позволяет:\n",
        "- Понять семантическую структуру текста.\n",
        "- Различать грамматические особенности слов.\n",
        "- Подготавливать текст для более сложных задач анализа, таких как извлечение информации, синтаксический анализ и машинный перевод.\n",
        "\n",
        "#### Методы частеречной разметки\n",
        "\n",
        "Существует несколько подходов к частеречной разметке, включая:\n",
        "- **Статистические методы**: основанные на обучении моделей на больших корпусах текста с помощью алгоритмов машинного обучения.\n",
        "- **Синтаксические методы**: использующие знания о грамматике и синтаксисе языка для присвоения частей речи.\n",
        "- **Комбинированные методы**: объединяющие различные подходы для достижения более точной разметки.\n",
        "\n",
        "#### Примеры частей речи\n",
        "\n",
        "Части речи могут включать:\n",
        "- **Существительные (NOUN)**: \"стол\", \"дом\", \"человек\".\n",
        "- **Глаголы (VERB)**: \"идти\", \"прыгать\", \"говорить\".\n",
        "- **Прилагательные (ADJ)**: \"красивый\", \"быстрый\", \"интересный\".\n",
        "- **Местоимения (PRON)**: \"он\", \"она\", \"их\".\n",
        "- **Наречия (ADV)**: \"быстро\", \"громко\", \"сегодня\".\n",
        "- **Предлоги (ADP)**: \"в\", \"на\", \"под\".\n",
        "- **Союзы (CONJ)**: \"и\", \"но\", \"если\".\n",
        "- **Частицы (PART)**: \"не\", \"бы\", \"же\".\n",
        "\n"
      ],
      "metadata": {
        "id": "aAixIxSABgQi"
      }
    },
    {
      "cell_type": "markdown",
      "source": [
        "Давайте рассмотрим примеры частеречной разметки для русского, английского и татарского языков с использованием различных инструментов.\n",
        "\n",
        "#### 2.5.1. Русский язык\n",
        "**Использование NLTK для русского языка:**\n",
        "\n",
        "NLTK (Natural Language Toolkit) предоставляет инструменты для работы с различными языками, включая русский."
      ],
      "metadata": {
        "id": "qAvJZQvCDPLG"
      }
    },
    {
      "cell_type": "code",
      "source": [
        "import nltk\n",
        "\n",
        "# Предварительно загрузите необходимые ресурсы\n",
        "nltk.download('averaged_perceptron_tagger_ru')\n",
        "\n",
        "# Ваш текст\n",
        "text_ru = \"Я пошел в парк, чтобы погулять и подышать свежим воздухом.\"\n",
        "\n",
        "# Токенизация\n",
        "tokens_ru = nltk.word_tokenize(text_ru)\n",
        "\n",
        "# Частеречная разметка\n",
        "pos_tags_ru = nltk.pos_tag(tokens_ru, lang='rus')\n",
        "\n",
        "print(pos_tags_ru)"
      ],
      "metadata": {
        "colab": {
          "base_uri": "https://localhost:8080/"
        },
        "id": "GJUmxc8rDldD",
        "outputId": "a3e56aaa-9791-47e0-c315-fc250906d36d"
      },
      "execution_count": 31,
      "outputs": [
        {
          "output_type": "stream",
          "name": "stderr",
          "text": [
            "[nltk_data] Downloading package averaged_perceptron_tagger_ru to\n",
            "[nltk_data]     /root/nltk_data...\n",
            "[nltk_data]   Unzipping taggers/averaged_perceptron_tagger_ru.zip.\n"
          ]
        },
        {
          "output_type": "stream",
          "name": "stdout",
          "text": [
            "[('Я', 'S-PRO'), ('пошел', 'V'), ('в', 'PR'), ('парк', 'S'), (',', 'NONLEX'), ('чтобы', 'CONJ'), ('погулять', 'V'), ('и', 'CONJ'), ('подышать', 'V'), ('свежим', 'A=m'), ('воздухом', 'S'), ('.', 'NONLEX')]\n"
          ]
        }
      ]
    },
    {
      "cell_type": "markdown",
      "source": [
        "**Использование pymorphy2 для русского языка:**\n",
        "\n",
        "pymorphy2 — морфологический анализатор для русского языка, который предоставляет детализированную информацию о формах слов."
      ],
      "metadata": {
        "id": "fF2lJSxjD3oK"
      }
    },
    {
      "cell_type": "code",
      "source": [
        "import pymorphy2\n",
        "\n",
        "morph = pymorphy2.MorphAnalyzer()\n",
        "\n",
        "text_ru = \"Мама мыла раму\"\n",
        "\n",
        "# Токенизация текста\n",
        "tokens_ru = text_ru.split()\n",
        "\n",
        "# Частеречная разметка\n",
        "pos_tags_ru = [(token, morph.parse(token)[0].tag.POS) for token in tokens_ru]\n",
        "\n",
        "print(\"Токены (русский):\", tokens_ru)\n",
        "print(\"POS tags (русский):\", pos_tags_ru)"
      ],
      "metadata": {
        "colab": {
          "base_uri": "https://localhost:8080/"
        },
        "id": "aiZMpPi0D8PE",
        "outputId": "70ba66a3-ec9d-4544-cffa-2d30886938c9"
      },
      "execution_count": 32,
      "outputs": [
        {
          "output_type": "stream",
          "name": "stdout",
          "text": [
            "Токены (русский): ['Мама', 'мыла', 'раму']\n",
            "POS tags (русский): [('Мама', 'NOUN'), ('мыла', 'NOUN'), ('раму', 'NOUN')]\n"
          ]
        }
      ]
    },
    {
      "cell_type": "markdown",
      "source": [
        "#### 2.5.2. Английский язык\n",
        "\n",
        "**Использование NLTK для английского языка:**\n",
        "\n",
        "NLTK также поддерживает английский язык и предоставляет инструменты для его обработки, включая частеречную разметку."
      ],
      "metadata": {
        "id": "i3NVa6ceD_c4"
      }
    },
    {
      "cell_type": "code",
      "source": [
        "import nltk\n",
        "nltk.download('averaged_perceptron_tagger')\n",
        "\n",
        "text_en = \"She sells seashells by the seashore\"\n",
        "\n",
        "# Токенизация текста\n",
        "tokens_en = nltk.word_tokenize(text_en)\n",
        "\n",
        "# Частеречная разметка\n",
        "pos_tags_en = nltk.pos_tag(tokens_en)\n",
        "\n",
        "print(\"Tokens (English):\", tokens_en)\n",
        "print(\"POS tags (English):\", pos_tags_en)"
      ],
      "metadata": {
        "colab": {
          "base_uri": "https://localhost:8080/"
        },
        "id": "XBXYDHP4EIHG",
        "outputId": "c80a2ffc-b787-495d-ea52-b6b10aea914a"
      },
      "execution_count": 33,
      "outputs": [
        {
          "output_type": "stream",
          "name": "stdout",
          "text": [
            "Tokens (English): ['She', 'sells', 'seashells', 'by', 'the', 'seashore']\n",
            "POS tags (English): [('She', 'PRP'), ('sells', 'VBZ'), ('seashells', 'NNS'), ('by', 'IN'), ('the', 'DT'), ('seashore', 'NN')]\n"
          ]
        },
        {
          "output_type": "stream",
          "name": "stderr",
          "text": [
            "[nltk_data] Downloading package averaged_perceptron_tagger to\n",
            "[nltk_data]     /root/nltk_data...\n",
            "[nltk_data]   Package averaged_perceptron_tagger is already up-to-\n",
            "[nltk_data]       date!\n"
          ]
        }
      ]
    },
    {
      "cell_type": "markdown",
      "source": [
        "**Использование spaCy для английского языка:**\n",
        "\n",
        "spaCy — это мощная библиотека для обработки естественного языка, которая поддерживает различные языки, включая английский."
      ],
      "metadata": {
        "id": "dLH_EXx8EL9A"
      }
    },
    {
      "cell_type": "code",
      "source": [
        "import spacy\n",
        "\n",
        "# Загрузка модели для английского языка\n",
        "nlp = spacy.load('en_core_web_sm')\n",
        "\n",
        "text_en = \"She sells seashells by the seashore\"\n",
        "\n",
        "# Обработка текста\n",
        "doc_en = nlp(text_en)\n",
        "\n",
        "# Вывод частей речи для каждого токена\n",
        "for token in doc_en:\n",
        "    print(token.text, token.pos_)"
      ],
      "metadata": {
        "colab": {
          "base_uri": "https://localhost:8080/"
        },
        "id": "PNJWAnflEPhC",
        "outputId": "326b3420-7cbe-4006-e395-f05c94313fb0"
      },
      "execution_count": 34,
      "outputs": [
        {
          "output_type": "stream",
          "name": "stdout",
          "text": [
            "She PRON\n",
            "sells VERB\n",
            "seashells NOUN\n",
            "by ADP\n",
            "the DET\n",
            "seashore NOUN\n"
          ]
        }
      ]
    },
    {
      "cell_type": "markdown",
      "source": [
        "#### 2.5.3. Татарский язык\n",
        "\n",
        "**Использование MyStem для татарского языка:**\n",
        "\n",
        "MyStem — это инструмент для морфологического анализа текстов на русском и татарском языках."
      ],
      "metadata": {
        "id": "mjqBqJqEESUr"
      }
    },
    {
      "cell_type": "code",
      "source": [
        "from pymystem3 import Mystem\n",
        "\n",
        "mystem = Mystem()\n",
        "\n",
        "text_tt = \"Мәслихәт җир итүсе баласына күчле\"\n",
        "\n",
        "# Лемматизация и частеречная разметка\n",
        "analysis = mystem.analyze(text_tt)\n",
        "\n",
        "for word in analysis:\n",
        "    if 'analysis' in word and len(word['analysis']) > 0:\n",
        "        lemma = word['analysis'][0]['lex']\n",
        "        pos = word['analysis'][0]['gr'].split(',')[0].split('=')[0]\n",
        "        print(word['text'], lemma, pos)"
      ],
      "metadata": {
        "colab": {
          "base_uri": "https://localhost:8080/"
        },
        "id": "fZyaO2ccEcF1",
        "outputId": "a52c7117-bb06-4ad4-8a23-abb0bf5e7171"
      },
      "execution_count": 35,
      "outputs": [
        {
          "output_type": "stream",
          "name": "stdout",
          "text": [
            "баласына баласын S\n"
          ]
        }
      ]
    },
    {
      "cell_type": "markdown",
      "source": [
        "\n",
        "\n",
        "#### Использование частеречной разметки в приложениях NLP\n",
        "\n",
        "- **Извлечение информации**: определение ролей слов в предложении помогает выявлять ключевые элементы.\n",
        "- **Машинный перевод**: понимание частей речи помогает в правильном переводе слов с учетом их грамматических форм.\n",
        "- **Синтаксический анализ**: базовый уровень анализа для понимания структуры предложений.\n",
        "- **Определение настроений и сентимента**: определение части речи может влиять на оценку тональности текста.\n",
        "\n",
        "\n",
        "\n",
        "Таким образом, частеречная разметка является фундаментальной задачей в обработке естественного языка, которая помогает компьютерам понимать и анализировать тексты, как это делают люди. Это один из важнейших этапов предобработки текста, который необходим для многих NLP-приложений и исследований."
      ],
      "metadata": {
        "id": "582-lHGLDPiU"
      }
    },
    {
      "cell_type": "markdown",
      "source": [
        "### 2.6. Улучшение токенов. Расширяем словарь n-граммами"
      ],
      "metadata": {
        "id": "dSpapC-SFn-1"
      }
    },
    {
      "cell_type": "markdown",
      "source": [
        "Улучшение токенизации текста путем расширения словаря n-грамм может значительно повысить качество обработки естественного языка, особенно при работе с контекстно зависимыми выражениями и сложными конструкциями. Давайте рассмотрим, что такое n-граммы и как можно расширить словарь для улучшения токенизации.\n",
        "\n",
        "### Что такое n-граммы?\n",
        "\n",
        "**N-граммы** представляют собой последовательности из n элементов (обычно слов или символов) в тексте. Они помогают улавливать контекстуальные зависимости и часто используются для улучшения процессов токенизации, анализа текстов и прогнозирования следующего слова в предложении.\n",
        "\n",
        "### Как расширить словарь n-граммами?\n",
        "\n",
        "Чтобы улучшить токенизацию текста с помощью расширения словаря n-граммами, следует выполнить следующие шаги:\n",
        "\n",
        "1. **Идентификация n-грамм**:\n",
        "   - Определите размер n-граммы (например, биграммы - двухэлементные последовательности слов, триграммы - трехэлементные и т.д.).\n",
        "   - Найдите все уникальные n-граммы в вашем корпусе текстов.\n",
        "\n",
        "2. **Добавление n-грамм в словарь**:\n",
        "   - Включите найденные n-граммы в ваш словарь токенизации.\n",
        "   - Обычно это делается путем добавления соответствующих n-грамм к уже существующим токенам или создания специальных токенов для n-грамм.\n",
        "\n",
        "3. **Использование улучшенного словаря**:\n",
        "   - После расширения словаря n-граммами примените его для токенизации новых текстов или для улучшения разметки уже существующих текстов.\n",
        "\n",
        "### Пример использования n-грамм для улучшения токенизации\n",
        "\n",
        "Давайте рассмотрим пример на Python, где мы будем использовать библиотеку NLTK для создания биграмм и их добавления в словарь токенизации.\n",
        "\n"
      ],
      "metadata": {
        "id": "uaINMbTFGE-i"
      }
    },
    {
      "cell_type": "code",
      "source": [
        "import nltk\n",
        "from nltk.tokenize import word_tokenize\n",
        "from nltk.util import ngrams\n",
        "\n",
        "# Пример текста\n",
        "text = \"Мама мыла раму. Я видел это собственными глазами.\"\n",
        "\n",
        "# Токенизация текста\n",
        "tokens = word_tokenize(text)\n",
        "\n",
        "# Создание биграмм и триграмм\n",
        "bigrams = list(ngrams(tokens, 2))\n",
        "trigrams = list(ngrams(tokens, 3))\n",
        "\n",
        "# Расширение словаря токенов биграммами и триграммами\n",
        "extended_tokens = tokens + bigrams + trigrams\n",
        "\n",
        "print(\"Исходные токены:\", tokens)\n",
        "print(\"Расширенные токены:\", extended_tokens)"
      ],
      "metadata": {
        "colab": {
          "base_uri": "https://localhost:8080/"
        },
        "id": "0R7m3XyhGa58",
        "outputId": "fa5c1052-3299-4abc-c02f-f5a926278e72"
      },
      "execution_count": 42,
      "outputs": [
        {
          "output_type": "stream",
          "name": "stdout",
          "text": [
            "Исходные токены: ['Мама', 'мыла', 'раму', '.', 'Я', 'видел', 'это', 'собственными', 'глазами', '.']\n",
            "Расширенные токены: ['Мама', 'мыла', 'раму', '.', 'Я', 'видел', 'это', 'собственными', 'глазами', '.', ('Мама', 'мыла'), ('мыла', 'раму'), ('раму', '.'), ('.', 'Я'), ('Я', 'видел'), ('видел', 'это'), ('это', 'собственными'), ('собственными', 'глазами'), ('глазами', '.'), ('Мама', 'мыла', 'раму'), ('мыла', 'раму', '.'), ('раму', '.', 'Я'), ('.', 'Я', 'видел'), ('Я', 'видел', 'это'), ('видел', 'это', 'собственными'), ('это', 'собственными', 'глазами'), ('собственными', 'глазами', '.')]\n"
          ]
        }
      ]
    },
    {
      "cell_type": "markdown",
      "source": [
        "В этом примере мы берем исходный текст, токенизируем его с помощью `word_tokenize` из NLTK, затем создаем биграммы с помощью `ngrams` из NLTK. Биграммы затем добавляются к исходным токенам для создания расширенного словаря токенов.\n",
        "\n"
      ],
      "metadata": {
        "id": "5_7C38pbGUf-"
      }
    },
    {
      "cell_type": "markdown",
      "source": [
        "Стоить, отметить что синтаксические n-граммы основаны не только на последовательности слов, но и на их синтаксической структуре. Например, можно использовать последовательности сущность-прилагательное (например, \"новая машина\"), которые могут быть полезны в задачах, требующих учета семантических и синтаксических связей.\n",
        "\n",
        "### 1. Адаптивная настройка словаря\n",
        "\n",
        "Этот метод заключается в динамическом обновлении словаря токенизации на основе анализа текста. Он может включать автоматическое добавление новых n-грамм в словарь на основе частотности их встречаемости в корпусе текстов.\n",
        "\n",
        "### 2. Контекстуальные n-граммы\n",
        "\n",
        "Этот подход учитывает не только последовательность слов, но и их контекст в предложении или тексте. Например, можно добавлять n-граммы, учитывая соседние предложения или абзацы, чтобы улучшить контекстуальное понимание.\n",
        "\n",
        "### 3. Использование специфических инструментов и библиотек\n",
        "\n",
        "Существуют специализированные инструменты и библиотеки, которые могут автоматически извлекать и добавлять n-граммы в словарь токенизации. Например, в библиотеке spaCy можно использовать кастомные правила для создания и добавления n-грамм.\n",
        "\n",
        "### 4. Преимущества использования n-грамм для расширения словаря токенизации:\n",
        "\n",
        "- **Улучшение контекстуальной обработки**: n-граммы помогают учесть контекстуальные зависимости между словами.\n",
        "- **Улучшение точности и полноты**: расширение словаря позволяет более точно и полно разделять текст на смысловые единицы.\n",
        "- **Повышение производительности моделей NLP**: использование n-грамм может улучшить качество различных задач обработки естественного языка, таких как машинный перевод, извлечение информации и анализ тональности.\n",
        "\n",
        "Таким образом, использование n-грамм для расширения словаря токенизации является мощным инструментом в обработке естественного языка, позволяющим улучшить качество обработки текстовых данных и достичь более точных результатов в задачах NLP. Выбор конкретного метода зависит от конкретной задачи и особенностей текстовых данных."
      ],
      "metadata": {
        "id": "aEc-gdkxHQpn"
      }
    },
    {
      "cell_type": "markdown",
      "source": [
        "### Вопросы для закрепления темы"
      ],
      "metadata": {
        "id": "tLmEzCYlKdQ4"
      }
    },
    {
      "cell_type": "markdown",
      "source": [
        "1. Что такое токенизация и какова ее основная цель в обработке естественного языка?\n",
        "\n",
        "2. Перечислите основные методы токенизации текста и объясните, в чем заключается каждый из них.\n",
        "\n",
        "3. Какие библиотеки на Python вы знаете для токенизации английского текста? Приведите пример использования каждой из них.\n",
        "\n",
        "4. Как реализуется токенизация текста на русском языке с помощью библиотек NLTK, spaCy и Razdel? Сравните их результаты.\n",
        "\n",
        "5. Что такое стемминг и для чего он применяется в обработке текста? Назовите основные алгоритмы стемминга.\n",
        "\n",
        "6. Как можно выполнить стемминг английских слов с помощью библиотеки NLTK? Напишите пример кода.\n",
        "\n",
        "7. Как реализуется стемминг русскоязычного текста с использованием библиотеки pymystem3? Приведите пример.\n",
        "\n",
        "8. Объясните, что такое частеречная разметка текста. Какие существуют методы для ее выполнения?\n",
        "\n",
        "9. Как можно выполнить частеречную разметку английского текста с помощью библиотеки spaCy? Приведите пример кода.\n",
        "\n",
        "10. Опишите, как можно адаптировать методы частеречной разметки, разработанные для русского языка, для обработки татарского языка.\n",
        "\n",
        "11. Что такое n-граммы и для чего они используются в обработке естественного языка?\n",
        "\n",
        "12. Как можно реализовать генерацию и анализ n-грамм из английского текста с помощью Python?\n",
        "\n",
        "13. Как можно применить n-граммы для улучшения качества обработки русскоязычного текста? Приведите пример.\n",
        "\n",
        "14. Объясните, как можно комбинировать различные методы предобработки текста (токенизацию, стемминг, удаление стоп-слов, частеречную разметку) для повышения эффективности NLP задач.\n",
        "\n",
        "15. Какие трудности могут возникнуть при применении методов предобработки текста к татарскому языку? Как можно их преодолеть?\n",
        "\n",
        "16. Сравните качество предобработки текста на английском, русском и татарском языках. Выявите сильные и слабые стороны каждого подхода.\n",
        "\n",
        "17. Опишите, как можно использовать результаты предобработки текста (токены, стемы, частеречную разметку, n-граммы) в задачах машинного обучения и анализа естественного языка.\n",
        "\n",
        "18. Как можно расширить словарь токенов за счет включения различных типов слов, таких как названия, места, имена и т.д.? Приведите пример.\n",
        "\n",
        "19. Объясните, почему важно выбирать правильные методы предобработки текста в зависимости от конкретной задачи обработки естественного языка.\n",
        "\n",
        "20. Какие перспективные направления развития методов предобработки текста вы можете предложить? Обоснуйте свои идеи."
      ],
      "metadata": {
        "id": "2UHgFUB4Ke9w"
      }
    },
    {
      "cell_type": "markdown",
      "source": [
        "### Задания для самостоятельной работы"
      ],
      "metadata": {
        "id": "SePTs33QKEMl"
      }
    },
    {
      "cell_type": "markdown",
      "source": [
        "1. Реализуйте простой токенизатор, разделяющий текст на слова с использованием пробелов и знаков препинания.\n",
        "\n",
        "2. Напишите функцию, использующую регулярные выражения для более сложной токенизации текста (например, выделяя числа, даты, хэштеги).\n",
        "\n",
        "3. Сравните производительность и качество токенизации текста на английском языке с помощью библиотек NLTK, spaCy и HuggingFace.\n",
        "\n",
        "4. Реализуйте токенизатор для русского языка, используя библиотеки NLTK, spaCy и Razdel. Проанализируйте результаты.\n",
        "\n",
        "5. Напишите скрипт, который выполняет токенизацию текста на татарском языке, используя NLTK и регулярные выражения.\n",
        "\n",
        "6. Реализуйте алгоритм Портера для стемминга английских слов. Сравните результаты с другими алгоритмами стемминга, такими как Ловинса и Snowball.\n",
        "\n",
        "7. Напишите функцию, выполняющую стемминг русскоязычного текста с помощью библиотек NLTK и pymystem3. Сравните результаты.\n",
        "\n",
        "8. Разработайте скрипт, который выполняет стемминг татарских слов, используя адаптированный подход с русским стеммером.\n",
        "\n",
        "9. Создайте список стоп-слов для русского и татарского языков. Напишите функцию, которая удаляет стоп-слова из текста.\n",
        "\n",
        "10. Разработайте скрипт, который выполняет частеречную разметку текста на английском языке с помощью библиотеки spaCy.\n",
        "\n",
        "11. Напишите функцию, которая выполняет частеречную разметку русскоязычного текста с использованием библиотек NLTK и nltk.corpus.\n",
        "\n",
        "12. Реализуйте скрипт, который определяет части речи в татарском тексте, используя адаптированный подход на основе русской модели.\n",
        "\n",
        "13. Создайте программу, которая извлекает и анализирует n-граммы из текста на английском языке. Сравните влияние разных n-грамм на качество анализа.\n",
        "\n",
        "14. Напишите скрипт, который генерирует n-граммы из русскоязычного текста и оценивает их полезность для задач обработки естественного языка.\n",
        "\n",
        "15. Разработайте функцию, которая создает n-граммы из татарского текста и исследует их применение в различных NLP задачах.\n",
        "\n",
        "16. Напишите код, объединяющий токенизацию, стемминг, удаление стоп-слов и частеречную разметку для обработки английского текста.\n",
        "\n",
        "17. Создайте скрипт, выполняющий комплексную предобработку русскоязычного текста, включая описанные выше техники.\n",
        "\n",
        "18. Разработайте программу, которая применяет предобработку текста на татарском языке, используя доступные библиотеки и методы.\n",
        "\n",
        "19. Сравните качество предобработки текста на разных языках (английский, русский, татарский) и проанализируйте полученные результаты.\n",
        "\n",
        "20. Напишите исследовательскую работу, в которой обобщите методы токенизации, стемминга, удаления стоп-слов и частеречной разметки, а также оцените их влияние на последующие задачи обработки естественного языка."
      ],
      "metadata": {
        "id": "yDJbpm3uKP9A"
      }
    }
  ]
}