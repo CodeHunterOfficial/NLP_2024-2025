{
  "nbformat": 4,
  "nbformat_minor": 0,
  "metadata": {
    "colab": {
      "provenance": [],
      "authorship_tag": "ABX9TyN3KyBOrHScdmZCdfjDiaWM",
      "include_colab_link": true
    },
    "kernelspec": {
      "name": "python3",
      "display_name": "Python 3"
    },
    "language_info": {
      "name": "python"
    }
  },
  "cells": [
    {
      "cell_type": "markdown",
      "metadata": {
        "id": "view-in-github",
        "colab_type": "text"
      },
      "source": [
        "<a href=\"https://colab.research.google.com/github/CodeHunterOfficial/NLP-2024-2025/blob/main/Lecture_3_1_%D0%92%D0%B5%D0%BA%D1%82%D0%BE%D1%80%D0%B8%D0%B7%D0%B0%D1%86%D0%B8%D1%8F_%D1%81%D0%BB%D0%BE%D0%B2_%D0%90%D1%80%D0%B8%D1%84%D0%BC%D0%B5%D1%82%D0%B8%D0%BA%D0%B0_%D1%81%D0%BB%D0%BE%D0%B2_%D0%B2%D0%B5%D0%BA%D1%82%D0%BE%D1%80%D1%8B_TF_IDF.ipynb\" target=\"_parent\"><img src=\"https://colab.research.google.com/assets/colab-badge.svg\" alt=\"Open In Colab\"/></a>"
      ]
    },
    {
      "cell_type": "markdown",
      "source": [
        "#Lecture 3. Векторизация слов. Арифметика слов: векторы TF-IDF\n",
        "\n",
        "\n",
        "#### Введение\n",
        "\n",
        "В данной лекции мы поговорим о векторных представлениях слов, особенно о методе TF-IDF, который является одним из важных инструментов в области обработки текстов. Мы рассмотрим различные подходы к представлению слов и их значений, а также узнаем, как эти методы применяются для анализа текстов и поиска релевантных документов.\n",
        "\n",
        "#### 1. Подсчет слов и частотностей термов для анализа смысла\n",
        "\n",
        "Первым шагом в анализе текста является подсчет частоты встречаемости каждого слова. Это позволяет понять, какие слова наиболее часто встречаются в тексте и, следовательно, могут нести ключевой смысл.\n"
      ],
      "metadata": {
        "id": "N4PsmfQrFgWW"
      }
    },
    {
      "cell_type": "markdown",
      "source": [
        "Подсчет частоты встречаемости слов и анализ терминов являются основными этапами при работе с текстовыми данными. Давайте разберемся подробнее с несколькими примерами.\n",
        "\n",
        "### 1. Подсчет частоты встречаемости слов\n",
        "\n",
        "#### Пример 1: Простой подсчет слов в тексте\n",
        "\n",
        "Предположим, у нас есть следующий текст:\n",
        "\n",
        "\"Машина едет по дороге. Машина останавливается у дома. Дом находится в лесу.\"\n",
        "\n",
        "Для начала работы с этим текстом мы должны выполнить следующие шаги:\n",
        "\n",
        "1. **Токенизация**: Разделить текст на отдельные слова или токены. В результате получим список слов:\n",
        "   ```\n",
        "   [\"Машина\", \"едет\", \"по\", \"дороге\", \"Машина\", \"останавливается\", \"у\", \"дома\", \"Дом\", \"находится\", \"в\", \"лесу\"]\n",
        "   ```\n",
        "\n",
        "2. **Подсчет частоты слов**: Посчитать, сколько раз каждое слово встречается в тексте:\n",
        "\n",
        "   - \"Машина\": 2 раза\n",
        "   - \"едет\": 1 раз\n",
        "   - \"по\": 1 раз\n",
        "   - \"дороге\": 1 раз\n",
        "   - \"останавливается\": 1 раз\n",
        "   - \"у\": 1 раз\n",
        "   - \"дома\": 1 раз\n",
        "   - \"Дом\": 1 раз\n",
        "   - \"находится\": 1 раз\n",
        "   - \"в\": 1 раз\n",
        "   - \"лесу\": 1 раз\n",
        "\n",
        "Эта информация позволяет нам понять, какие слова наиболее часто употребляются в тексте, и их вклад в общее содержание.\n",
        "\n",
        "#### Пример 2: Обработка текста из большой коллекции\n",
        "\n",
        "Предположим, у нас есть набор документов, и мы хотим выяснить, какие термины наиболее часто встречаются во всех документах.\n",
        "\n",
        "Для этого мы объединяем все тексты в один большой корпус, токенизируем его и подсчитываем частоту каждого слова. Например, если у нас есть два документа:\n",
        "\n",
        "**Документ 1:**\n",
        "```\n",
        "\"Искусственный интеллект меняет мир. Машины могут обучаться самостоятельно.\"\n",
        "```\n",
        "\n",
        "**Документ 2:**\n",
        "```\n",
        "\"Интеллектуальные системы имеют большое будущее. Интеллект может быть синонимом разума.\"\n",
        "```\n",
        "\n",
        "Объединенный корпус:\n",
        "```\n",
        "\"Искусственный интеллект меняет мир. Машины могут обучаться самостоятельно. Интеллектуальные системы имеют большое будущее. Интеллект может быть синонимом разума.\"\n",
        "```\n",
        "\n",
        "Токенизируем и подсчитаем частоту слов:\n",
        "\n",
        "   - \"интеллект\": 3 раза\n",
        "   - \"могут\": 2 раза\n",
        "   - \"быть\": 1 раз\n",
        "   - \"искусственный\": 1 раз\n",
        "   - \"меняет\": 1 раз\n",
        "   - \"мир\": 1 раз\n",
        "   - \"машины\": 1 раз\n",
        "   - \"обучаться\": 1 раз\n",
        "   - \"самостоятельно\": 1 раз\n",
        "   - \"интеллектуальные\": 1 раз\n",
        "   - \"системы\": 1 раз\n",
        "   - \"имеют\": 1 раз\n",
        "   - \"большое\": 1 раз\n",
        "   - \"будущее\": 1 раз\n",
        "   - \"может\": 1 раз\n",
        "   - \"синонимом\": 1 раз\n",
        "   - \"разума\": 1 раз\n",
        "\n",
        "Это позволяет нам увидеть, что \"интеллект\" встречается чаще всего, что может указывать на его ключевую роль в контексте данных текстов.\n",
        "\n",
        "Пример"
      ],
      "metadata": {
        "id": "ETjnVzVcGjVN"
      }
    },
    {
      "cell_type": "code",
      "source": [
        "from collections import Counter\n",
        "import re\n",
        "\n",
        "def count_word_frequencies(text):\n",
        "    # Приводим текст к нижнему регистру для учета слов без учета регистра\n",
        "    text = text.lower()\n",
        "    # Используем регулярное выражение для извлечения слов (токенизация)\n",
        "    words = re.findall(r'\\b\\w+\\b', text)\n",
        "    # Считаем частоту каждого слова с помощью Counter из модуля collections\n",
        "    word_counts = Counter(words)\n",
        "    return word_counts\n",
        "\n",
        "# Пример текста для анализа\n",
        "text = \"\"\"\n",
        "Машина едет по дороге. Машина останавливается у дома.\n",
        "Дом находится в лесу. Машина и дома разные понятия.\n",
        "\"\"\"\n",
        "\n",
        "# Получаем частоту встречаемости слов в тексте\n",
        "word_frequency = count_word_frequencies(text)\n",
        "\n",
        "# Выводим результаты\n",
        "print(\"Частота встречаемости слов в тексте:\")\n",
        "for word, count in word_frequency.items():\n",
        "    print(f\"{word}: {count}\")"
      ],
      "metadata": {
        "colab": {
          "base_uri": "https://localhost:8080/"
        },
        "id": "Oe20y5szGt4C",
        "outputId": "7952049a-89f3-4423-8449-2c9b27948652"
      },
      "execution_count": 1,
      "outputs": [
        {
          "output_type": "stream",
          "name": "stdout",
          "text": [
            "Частота встречаемости слов в тексте:\n",
            "машина: 3\n",
            "едет: 1\n",
            "по: 1\n",
            "дороге: 1\n",
            "останавливается: 1\n",
            "у: 1\n",
            "дома: 2\n",
            "дом: 1\n",
            "находится: 1\n",
            "в: 1\n",
            "лесу: 1\n",
            "и: 1\n",
            "разные: 1\n",
            "понятия: 1\n"
          ]
        }
      ]
    },
    {
      "cell_type": "markdown",
      "source": [
        "\n",
        "Таким образом, подсчет частоты встречаемости слов — это важный этап анализа текста, который позволяет выявить ключевые термины и понять, какие идеи или концепции наиболее часто упоминаются в текстовых данных. Этот процесс является основой для более глубокого понимания содержания и структуры текста, а также для дальнейших аналитических и информационных задач."
      ],
      "metadata": {
        "id": "EPtlLScnGuM9"
      }
    },
    {
      "cell_type": "markdown",
      "source": [
        "\n",
        "#### 2. Предсказание вероятностей вхождений слов с помощью закона Ципфа\n",
        "\n",
        "\n",
        "\n"
      ],
      "metadata": {
        "id": "hea98sWuGW0-"
      }
    },
    {
      "cell_type": "markdown",
      "source": [
        "Закон Ципфа, названный в честь американского лингвиста Джорджа Ципфа, описывает явление, согласно которому частота встречаемости слов в текстах часто следует степенному закону. Это означает, что частота f(r) встречаемости слова, занимающего r-ое место по частотности, обратно пропорциональна его рангу r:\n",
        "\n",
        "$$ f(r) \\propto \\frac{1}{r^\\alpha} $$\n",
        "\n",
        "где α - параметр, зависящий от конкретного текста.\n",
        "\n",
        "С другими словами закон Ципфа утверждает, что частота встречаемости слов в текстах обычно обратно пропорциональна их порядковому номеру по частотности. Это значит, что самое часто встречающееся слово встречается в тексте вдвое чаще, чем второе по частоте и т.д. Этот закон помогает предсказывать частоту вхождения слов и определять их важность в тексте.\n",
        "\n",
        "### Примеры и применение закона Ципфа:\n",
        "\n",
        "1. **В анализе текстов**:\n",
        "   - При анализе больших текстовых корпусов или коллекций документов можно применять закон Ципфа для оценки значимости слов. Например, если в тексте самое частое слово встречается 100 раз, то второе по частоте слово будет встречаться примерно 50 раз, третье - 33 раза, и так далее, что хорошо соответствует закону Ципфа.\n",
        "\n",
        "2. **В построении индексов и поисковых систем**:\n",
        "   - Предположим, что у нас есть поисковая система, которая должна определять важность слов в документах. Закон Ципфа позволяет оценивать, какие слова являются наиболее часто встречающимися и, следовательно, могут быть менее информативными (стоп-слова), а какие более важными (ключевые слова).\n",
        "\n",
        "3. **В статистическом анализе текстов**:\n",
        "   - При сравнении текстов на разных языках или в разных жанрах можно использовать закон Ципфа для изучения различий в частоте употребления слов. Например, можно выявить, что для одного жанра текстов (например, научных статей) закон Ципфа хорошо соблюдается, а для другого (например, художественных произведений) он может быть менее точным из-за специфики лексики.\n",
        "\n",
        "4. **В моделировании языковых процессов**:\n",
        "   - Моделирование процессов генерации текста (например, с использованием языковых моделей) может учитывать закон Ципфа для генерации реалистичных текстов по частоте встречаемости слов.\n",
        "\n"
      ],
      "metadata": {
        "id": "9Sr1YtjeIQjd"
      }
    },
    {
      "cell_type": "markdown",
      "source": [
        "Давайте рассмотрим применение закона Ципфа к конкретному тексту с использованием формулы, которая описывает зависимость частоты встречаемости слов от их ранга.\n",
        "\n",
        "Предположим, у нас есть текст:\n",
        "\n",
        "**Текст:**\n",
        "\"Вчера вечером я пошел на концерт своей любимой группы. Музыка была потрясающей, и атмосфера была полностью волшебной. Я чувствовал, что каждая нота касается моей души. Это был незабываемый вечер.\"\n",
        "\n",
        "Теперь давайте посчитаем частоту встречаемости слов и проверим, соответствует ли она закону Ципфа.\n",
        "\n",
        "1. **Выделение слов из текста и подсчет их частоты:**\n",
        "\n",
        "   - \"вчера\" - 1 раз\n",
        "   - \"вечером\" - 1 раз\n",
        "   - \"я\" - 2 раза\n",
        "   - \"пошел\" - 1 раз\n",
        "   - \"на\" - 1 раз\n",
        "   - \"концерт\" - 1 раз\n",
        "   - \"своей\" - 1 раз\n",
        "   - \"любимой\" - 1 раз\n",
        "   - \"группы\" - 1 раз\n",
        "   - \"музыка\" - 1 раз\n",
        "   - \"была\" - 2 раза\n",
        "   - \"потрясающей\" - 1 раз\n",
        "   - \"и\" - 1 раз\n",
        "   - \"атмосфера\" - 1 раз\n",
        "   - \"полностью\" - 1 раз\n",
        "   - \"волшебной\" - 1 раз\n",
        "   - \"чувствовал\" - 1 раз\n",
        "   - \"что\" - 1 раз\n",
        "   - \"каждая\" - 1 раз\n",
        "   - \"нота\" - 1 раз\n",
        "   - \"касается\" - 1 раз\n",
        "   - \"моей\" - 1 раз\n",
        "   - \"души\" - 1 раз\n",
        "   - \"это\" - 1 раз\n",
        "   - \"незабываемый\" - 1 раз\n",
        "\n",
        "2. **Определение ранга слов и расчет частоты встречаемости:**\n",
        "\n",
        "   - Самое частое слово (\"я\") встречается 2 раза.\n",
        "   - Второе по частоте слово (\"была\") также встречается 2 раза.\n",
        "   - Третье по частоте слово (\"был\") встречается 1 раз.\n",
        "   - Четвертое по частоте слово (\"в\") встречается 1 раз.\n",
        "   - Пятое по частоте слово (\"вечером\") встречается 1 раз.\n",
        "\n",
        "3. **Применение закона Ципфа:**\n",
        "\n",
        "   Закон Ципфа утверждает, что частота f(r) встречаемости слова, занимающего r-ое место по частотности, обратно пропорциональна его рангу r:\n",
        "\n",
        "   $$ f(r) = \\frac{C}{r^\\alpha} $$\n",
        "\n",
        "   где C - нормализующая константа, а α - параметр, обычно около 1.\n",
        "\n",
        "   Давайте проверим, как соотносится ранг слова с его частотой встречаемости:\n",
        "\n",
        "   - Первое слово \"я\": $ f(1) = \\frac{C}{1^\\alpha} = C $\n",
        "   - Второе слово \"была\": $ f(2) = \\frac{C}{2^\\alpha} $\n",
        "   - Третье слово \"был\": $ f(3) = \\frac{C}{3^\\alpha} $\n",
        "   - И так далее...\n",
        "\n",
        "   Для нашего конкретного текста можно определить параметр α, используя значения частот и рангов слов. Обычно α близко к 1 для большинства текстов, что соответствует наблюдаемому убыванию частоты встречаемости по мере увеличения ранга слова.\n",
        "\n",
        "Этот подход позволяет математически подтвердить применимость закона Ципфа к конкретному тексту и использовать его для анализа частотности слов в больших корпусах текстов или при сравнении различных языковых структур."
      ],
      "metadata": {
        "id": "Egf_ws9qIhgq"
      }
    },
    {
      "cell_type": "markdown",
      "source": [
        "Для решения задачи подсчета частоты встречаемости слов в тексте и проверки закона Ципфа на Python можно написать следующую программу."
      ],
      "metadata": {
        "id": "WyzBsyHrI7SD"
      }
    },
    {
      "cell_type": "code",
      "source": [
        "from collections import Counter\n",
        "import matplotlib.pyplot as plt\n",
        "\n",
        "# Текст для анализа\n",
        "text = \"Вчера вечером я пошел на концерт своей любимой группы. Музыка была потрясающей, и атмосфера была полностью волшебной. Я чувствовал, что каждая нота касается моей души. Это был незабываемый вечер.\"\n",
        "\n",
        "# Приведем все слова к нижнему регистру и разобъем на слова\n",
        "words = text.lower().split()\n",
        "\n",
        "# Подсчитаем частоту встречаемости слов\n",
        "word_freq = Counter(words)\n",
        "\n",
        "# Получим список слов и их частот\n",
        "word_list = list(word_freq.keys())\n",
        "freq_list = list(word_freq.values())\n",
        "\n",
        "# Отсортируем список слов по убыванию частоты\n",
        "sorted_indices = sorted(range(len(freq_list)), key=lambda k: freq_list[k], reverse=True)\n",
        "word_list_sorted = [word_list[idx] for idx in sorted_indices]\n",
        "freq_list_sorted = [freq_list[idx] for idx in sorted_indices]\n",
        "\n",
        "# Выведем список слов и их частот\n",
        "print(\"Список слов и их частот в тексте:\")\n",
        "for word, freq in zip(word_list_sorted, freq_list_sorted):\n",
        "    print(f\"{word}: {freq}\")\n",
        "\n",
        "# Построим график для закона Ципфа\n",
        "ranks = list(range(1, len(word_list_sorted) + 1))\n",
        "frequencies = freq_list_sorted\n",
        "\n",
        "plt.figure(figsize=(10, 6))\n",
        "plt.bar(ranks, frequencies, align='center', alpha=0.5)\n",
        "plt.xlabel('Ранг слова')\n",
        "plt.ylabel('Частота встречаемости')\n",
        "plt.title('Закон Ципфа')\n",
        "plt.grid(True)\n",
        "plt.show()"
      ],
      "metadata": {
        "colab": {
          "base_uri": "https://localhost:8080/",
          "height": 1000
        },
        "id": "vXs2RjapI_yD",
        "outputId": "7c891e2e-2502-477c-b87e-63276c5382b7"
      },
      "execution_count": 2,
      "outputs": [
        {
          "output_type": "stream",
          "name": "stdout",
          "text": [
            "Список слов и их частот в тексте:\n",
            "я: 2\n",
            "была: 2\n",
            "вчера: 1\n",
            "вечером: 1\n",
            "пошел: 1\n",
            "на: 1\n",
            "концерт: 1\n",
            "своей: 1\n",
            "любимой: 1\n",
            "группы.: 1\n",
            "музыка: 1\n",
            "потрясающей,: 1\n",
            "и: 1\n",
            "атмосфера: 1\n",
            "полностью: 1\n",
            "волшебной.: 1\n",
            "чувствовал,: 1\n",
            "что: 1\n",
            "каждая: 1\n",
            "нота: 1\n",
            "касается: 1\n",
            "моей: 1\n",
            "души.: 1\n",
            "это: 1\n",
            "был: 1\n",
            "незабываемый: 1\n",
            "вечер.: 1\n"
          ]
        },
        {
          "output_type": "display_data",
          "data": {
            "text/plain": [
              "<Figure size 1000x600 with 1 Axes>"
            ],
            "image/png": "[encoded data removed]"
          },
          "metadata": {}
        }
      ]
    },
    {
      "cell_type": "markdown",
      "source": [
        "Таким образом, закон Ципфа полезен для анализа текстовых данных, предсказания частоты вхождения слов и оценки их важности в контексте. Он находит применение не только в лингвистике и текстовой аналитике, но и в информационном поиске, компьютерной лингвистике и машинном обучении."
      ],
      "metadata": {
        "id": "ZgorrZ0-GZ5l"
      }
    },
    {
      "cell_type": "markdown",
      "source": [
        "#### 3. Векторные представления слов и способы их использования\n",
        "\n",
        "Теперь давайте перейдем к векторным представлениям слов, которые являются более мощным инструментом для анализа текстов.\n",
        "\n",
        "- **Мультимножества слов** — это векторы, где каждая компонента соответствует частоте встречаемости конкретного слова в тексте. Например, если у нас есть текст с тремя словами \"apple\", \"banana\" и \"orange\", и \"apple\" встречается 5 раз, \"banana\" — 3 раза и \"orange\" — 2 раза, то вектор будет иметь вид (5, 3, 2).\n",
        "\n",
        "- **Мультимножества n-грамм** — это расширение концепции мультимножеств слов на последовательности слов определенной длины (n). Например, для n=2 (биграммы) мы можем рассматривать пары слов, для n=3 (триграммы) — тройки слов и т.д. Это позволяет учитывать контекстуальные зависимости между словами.\n",
        "\n",
        "- **Векторы TF-IDF** (Term Frequency - Inverse Document Frequency) — это мера, которая отражает важность слова в документе или в корпусе документов, учитывая как частоту встречаемости слова в документе (TF), так и обратную частотность слова в корпусе (IDF). TF-IDF позволяет выявлять ключевые слова, которые характеризуют содержание документа относительно всего корпуса.\n",
        "\n"
      ],
      "metadata": {
        "id": "vrbobj04GaE8"
      }
    },
    {
      "cell_type": "markdown",
      "source": [
        "\n",
        "\n",
        "\n",
        "#### Мультимножества слов\n",
        "\n",
        "Мультимножество слов (Bag of Words, BoW) представляет собой простой метод создания векторных представлений на основе частоты встречаемости слов в документе.\n",
        "\n",
        "1. **Создание мультимножества слов:**\n",
        "   - Предложение или документ разбивается на отдельные слова.\n",
        "   - Для каждого слова подсчитывается его частота в документе.\n",
        "   - Каждое слово представляется вектором, где каждая компонента вектора соответствует частоте слова в документе.\n",
        "\n",
        "Пример:\n",
        "Пусть у нас есть предложение: \"Кошка сидит на окне и мурлыкает.\"\n",
        "Мультимножество слов для этого предложения:\n",
        "\n",
        "$\\{ \\text{\"Кошка\": 1, \"сидит\": 1, \"на\": 1, \"окне\": 1, \"и\": 1, \"мурлыкает\": 1 \\} $\n",
        "\n",
        "2. **Проблемы мультимножеств слов:**\n",
        "   - Не учитывает порядок слов.\n",
        "   - Игнорирует семантические отношения между словами.\n",
        "\n",
        "#### Мультимножества n-грамм\n",
        "\n",
        "Мультимножества n-грамм расширяют концепцию мультимножеств слов, учитывая последовательности из n подряд идущих слов.\n",
        "\n",
        "1. **Создание мультимножества n-грамм:**\n",
        "   - Документ разбивается на последовательности из n слов (n-граммы).\n",
        "   - Для каждой n-граммы подсчитывается её частота в документе.\n",
        "   - Каждая n-грамма представляется вектором по аналогии с мультимножествами слов.\n",
        "\n",
        "Пример:\n",
        "Предложение: \"Кошка сидит на окне и мурлыкает.\"\n",
        "Мультимножество 2-грамм:\n",
        "$$ \\{ \\text{\"Кошка сидит\": 1, \"сидит на\": 1, \"на окне\": 1, \"окне и\": 1, \"и мурлыкает\": 1 \\} $$\n",
        "\n",
        "2. **Применение мультимножеств n-грамм:**\n",
        "   - Учет контекста и частоты встречаемости более длинных фраз.\n",
        "   - Более сложная модель, требующая больше вычислительных ресурсов.\n",
        "\n",
        "#### Векторы TF-IDF (Term Frequency - Inverse Document Frequency)\n",
        "\n",
        "Векторы TF-IDF используются для оценки важности слов в документе относительно коллекции документов.\n",
        "\n",
        "1. **Вычисление TF (Term Frequency):**\n",
        "   - TF отражает, как часто слово встречается в документе.\n",
        "  $$ \\text{TF}(t, d) = \\frac{\\text{число раз, когда слово } t \\text{ встречается в документе } d}{\\text{общее число слов в документе } d} $$\n",
        "\n",
        "2. **Вычисление IDF (Inverse Document Frequency):**\n",
        "   - IDF измеряет, насколько информативным является слово по всей коллекции документов.\n",
        "   $$ \\text{IDF}(t, D) = \\log \\left( \\frac{|D|}{|\\{d \\in D : t \\in d\\}|} \\right) $$\n",
        "   где $ |D| $ - общее количество документов, $ |\\{d \\in D : t \\in d\\}| $ - количество документов, содержащих слово $ t $.\n",
        "\n",
        "3. **Вычисление вектора TF-IDF:**\n",
        "   - TF-IDF вектор для слова $t $ в документе $$ d $$:\n",
        "  $$ \\text{TF-IDF}(t, d, D) = \\text{TF}(t, d) \\cdot \\text{IDF}(t, D) $$\n",
        "\n",
        "Пример:\n",
        "Рассмотрим коллекцию из двух документов:\n",
        "- Документ 1: \"Кошка сидит на окне.\"\n",
        "- Документ 2: \"Собака бегает по улице.\"\n",
        "\n",
        "Вычислим TF-IDF для слова \"кошка\" в Документе 1:\n",
        "$$ \\text{TF}(кошка, \\text{Документ 1}) = \\frac{1}{4} = 0.25 $$\n",
        "$$ \\text{IDF}(кошка, \\{ \\text{Документ 1}, \\text{Документ 2} \\}) = \\log \\left( \\frac{2}{1} \\right) = \\log(2) \\approx 0.301 $$\n",
        "$$ \\text{TF-IDF}(кошка, \\text{Документ 1}) = 0.25 \\cdot 0.301 = 0.07525 $$\n",
        "\n",
        "Таким образом, векторные представления слов и их вариации, такие как мультимножества слов, мультимножества n-грамм и векторы TF-IDF, играют важную роль в NLP задачах, таких как классификация текстов, кластеризация документов, анализ тональности и другие. Понимание этих методов помогает эффективно работать с текстовыми данными и извлекать семантическую информацию из текста."
      ],
      "metadata": {
        "id": "1x7uZqYdJ8Jm"
      }
    },
    {
      "cell_type": "markdown",
      "source": [
        "Давайте рассмотрим примеры на Python для каждого из методов: мультимножества слов, мультимножества n-грамм и векторов TF-IDF."
      ],
      "metadata": {
        "id": "CXVRH5hZGcxL"
      }
    },
    {
      "cell_type": "markdown",
      "source": [
        "Мультимножества слов (Bag of Words)\n",
        "\n",
        "Для создания мультимножества слов можно использовать библиотеку sklearn:"
      ],
      "metadata": {
        "id": "yKJ5Xx5fNn8A"
      }
    },
    {
      "cell_type": "code",
      "source": [
        "from sklearn.feature_extraction.text import CountVectorizer\n",
        "\n",
        "# Пример текстов\n",
        "corpus = [\n",
        "    \"Кошка сидит на окне\",\n",
        "    \"Собака бегает по улице\",\n",
        "    \"Кошка мурлыкает\"\n",
        "]\n",
        "\n",
        "# Создание объекта CountVectorizer\n",
        "vectorizer = CountVectorizer()\n",
        "\n",
        "# Преобразование текстов в мультимножества слов\n",
        "X = vectorizer.fit_transform(corpus)\n",
        "\n",
        "# Вывод словаря слов и их индексов\n",
        "print(\"Словарь слов:\")\n",
        "print(vectorizer.vocabulary_)\n",
        "\n",
        "# Вывод мультимножеств слов в виде разреженной матрицы\n",
        "print(\"Мультимножества слов (разреженная матрица):\")\n",
        "print(X.toarray())"
      ],
      "metadata": {
        "colab": {
          "base_uri": "https://localhost:8080/"
        },
        "id": "1WqnzkrkNrQf",
        "outputId": "3da7b981-583c-4ddb-9946-906151ab23c0"
      },
      "execution_count": 3,
      "outputs": [
        {
          "output_type": "stream",
          "name": "stdout",
          "text": [
            "Словарь слов:\n",
            "{'кошка': 1, 'сидит': 6, 'на': 3, 'окне': 4, 'собака': 7, 'бегает': 0, 'по': 5, 'улице': 8, 'мурлыкает': 2}\n",
            "Мультимножества слов (разреженная матрица):\n",
            "[[0 1 0 1 1 0 1 0 0]\n",
            " [1 0 0 0 0 1 0 1 1]\n",
            " [0 1 1 0 0 0 0 0 0]]\n"
          ]
        }
      ]
    },
    {
      "cell_type": "markdown",
      "source": [
        "Мультимножества n-грамм\n",
        "\n",
        "Для работы с мультимножествами n-грамм также используем CountVectorizer, указывая параметр ngram_range:"
      ],
      "metadata": {
        "id": "UXQrxUqWNxbv"
      }
    },
    {
      "cell_type": "code",
      "source": [
        "from sklearn.feature_extraction.text import CountVectorizer\n",
        "\n",
        "# Пример текстов\n",
        "corpus = [\n",
        "    \"Кошка сидит на окне\",\n",
        "    \"Собака бегает по улице\",\n",
        "    \"Кошка мурлыкает\"\n",
        "]\n",
        "\n",
        "# Создание объекта CountVectorizer для 2-грамм\n",
        "vectorizer = CountVectorizer(ngram_range=(2, 2))\n",
        "\n",
        "# Преобразование текстов в мультимножества 2-грамм\n",
        "X = vectorizer.fit_transform(corpus)\n",
        "\n",
        "# Вывод словаря 2-грамм и их индексов\n",
        "print(\"Словарь 2-грамм:\")\n",
        "print(vectorizer.vocabulary_)\n",
        "\n",
        "# Вывод мультимножеств 2-грамм в виде разреженной матрицы\n",
        "print(\"Мультимножества 2-грамм (разреженная матрица):\")\n",
        "print(X.toarray())"
      ],
      "metadata": {
        "colab": {
          "base_uri": "https://localhost:8080/"
        },
        "id": "Q_w3HaWbN1Pe",
        "outputId": "0f9eb4d2-a56d-4cac-d6d8-d5dbc94ab4c9"
      },
      "execution_count": 4,
      "outputs": [
        {
          "output_type": "stream",
          "name": "stdout",
          "text": [
            "Словарь 2-грамм:\n",
            "{'кошка сидит': 2, 'сидит на': 5, 'на окне': 3, 'собака бегает': 6, 'бегает по': 0, 'по улице': 4, 'кошка мурлыкает': 1}\n",
            "Мультимножества 2-грамм (разреженная матрица):\n",
            "[[0 0 1 1 0 1 0]\n",
            " [1 0 0 0 1 0 1]\n",
            " [0 1 0 0 0 0 0]]\n"
          ]
        }
      ]
    },
    {
      "cell_type": "markdown",
      "source": [
        "Векторы TF-IDF\n",
        "\n",
        "Для создания векторов TF-IDF можно использовать TfidfVectorizer из sklearn:"
      ],
      "metadata": {
        "id": "8T_JWtNXN5Dv"
      }
    },
    {
      "cell_type": "code",
      "source": [
        "from sklearn.feature_extraction.text import TfidfVectorizer\n",
        "\n",
        "# Пример текстов\n",
        "corpus = [\n",
        "    \"Кошка сидит на окне\",\n",
        "    \"Собака бегает по улице\",\n",
        "    \"Кошка мурлыкает\"\n",
        "]\n",
        "\n",
        "# Создание объекта TfidfVectorizer\n",
        "vectorizer = TfidfVectorizer()\n",
        "\n",
        "# Преобразование текстов в векторы TF-IDF\n",
        "X = vectorizer.fit_transform(corpus)\n",
        "\n",
        "# Вывод словаря слов и их индексов\n",
        "print(\"Словарь слов:\")\n",
        "print(vectorizer.vocabulary_)\n",
        "\n",
        "# Вывод векторов TF-IDF в виде разреженной матрицы\n",
        "print(\"TF-IDF векторы (разреженная матрица):\")\n",
        "print(X.toarray())"
      ],
      "metadata": {
        "colab": {
          "base_uri": "https://localhost:8080/"
        },
        "id": "okRpWHFaN9YF",
        "outputId": "df4eacf3-fd80-4188-a01a-281ce2f1239a"
      },
      "execution_count": 5,
      "outputs": [
        {
          "output_type": "stream",
          "name": "stdout",
          "text": [
            "Словарь слов:\n",
            "{'кошка': 1, 'сидит': 6, 'на': 3, 'окне': 4, 'собака': 7, 'бегает': 0, 'по': 5, 'улице': 8, 'мурлыкает': 2}\n",
            "TF-IDF векторы (разреженная матрица):\n",
            "[[0.         0.40204024 0.         0.52863461 0.52863461 0.\n",
            "  0.52863461 0.         0.        ]\n",
            " [0.5        0.         0.         0.         0.         0.5\n",
            "  0.         0.5        0.5       ]\n",
            " [0.         0.60534851 0.79596054 0.         0.         0.\n",
            "  0.         0.         0.        ]]\n"
          ]
        }
      ]
    },
    {
      "cell_type": "markdown",
      "source": [
        "Эти примеры демонстрируют основные шаги для создания мультимножеств слов, мультимножеств n-грамм и векторов TF-IDF на Python с использованием библиотеки sklearn. Каждый из этих методов имеет свои особенности и может быть доработан в зависимости от конкретных требований задачи в обработке естественного языка."
      ],
      "metadata": {
        "id": "W3N24muOOFtO"
      }
    },
    {
      "cell_type": "markdown",
      "source": [
        "\n",
        "\n",
        "#### 4. Поиск релевантных документов из корпуса на основе обратных частотностей документов\n",
        "\n",
        "\n",
        "\n"
      ],
      "metadata": {
        "id": "6z6t7PLGGc0o"
      }
    },
    {
      "cell_type": "markdown",
      "source": [
        "#### Введение\n",
        "\n",
        "Поиск релевантных документов в корпусе текстов является ключевой задачей в области информационного поиска. Одним из важных инструментов, используемых для оценки важности слов в контексте всего корпуса, является обратная частотность документов (Inverse Document Frequency, IDF). IDF позволяет выявить слова, которые наиболее эффективно различают документы друг от друга, что делает их более информативными для поиска и ранжирования документов по их релевантности.\n",
        "\n",
        "#### Что такое обратная частотность документов (IDF)?\n",
        "\n",
        "Обратная частотность документов (IDF) - это мера, используемая для оценки важности слова в контексте корпуса документов. Она вычисляется как логарифм отношения общего числа документов к числу документов, содержащих данное слово. Слова с высоким значением IDF рассматриваются как более редкие и, следовательно, более информативные для поиска и ранжирования.\n",
        "\n",
        "Формула для вычисления IDF слова \\( t \\) в коллекции документов $ D $:\n",
        "$$ \\text{IDF}(t, D) = \\log \\left( \\frac{|D|}{|\\{d \\in D : t \\in d\\}|} \\right) $$\n",
        "\n",
        "Где:\n",
        "- $ |D| $ - общее количество документов в коллекции.\n",
        "- $ |\\{d \\in D : t \\in d\\}| $ - количество документов, содержащих слово $ t $.\n",
        "\n",
        "#### Пример вычисления IDF\n",
        "\n",
        "Рассмотрим пример коллекции из пяти документов:\n",
        "1. \"Кошка сидит на окне\"\n",
        "2. \"Собака бегает по улице\"\n",
        "3. \"Кошка мурлыкает\"\n",
        "4. \"Собака играет с мячом\"\n",
        "5. \"Птица летает в небе\"\n",
        "\n",
        "Вычислим IDF для слова \"кошка\":\n",
        "$$ |D| = 5 $$\n",
        "$$ |\\{d \\in D : \\text{\"кошка\"} \\in d\\}| = 2 $$\n",
        "\n",
        "$$ \\text{IDF}(\\text{\"кошка\"}, D) = \\log \\left( \\frac{5}{2} \\right) \\approx \\log(2.5) \\approx 0.398 $$\n",
        "\n",
        "#### Применение IDF в поиске релевантных документов\n",
        "\n",
        "IDF используется вместе с частотой термина в документе (Term Frequency, TF) для вычисления весов TF-IDF, которые затем используются для ранжирования документов в поисковой системе. Вес TF-IDF для слова \\( t \\) в документе \\( d \\) вычисляется как произведение TF и IDF:\n",
        "\n",
        "\\[ \\text{TF-IDF}(t, d, D) = \\text{TF}(t, d) \\cdot \\text{IDF}(t, D) \\]\n",
        "\n",
        "Где:\n",
        "- \\( \\text{TF}(t, d) \\) - частота слова \\( t \\) в документе \\( d \\).\n",
        "- \\( \\text{IDF}(t, D) \\) - обратная частотность слова \\( t \\) в коллекции документов \\( D \\).\n",
        "\n",
        "#### Пример TF-IDF\n",
        "\n",
        "Рассмотрим предыдущий пример с коллекцией документов и вычислим TF-IDF для слова \"кошка\" в каждом документе (предполагая, что TF(\"кошка\", документ) равно 1 для всех документов):\n",
        "\n",
        "$$ \\text{TF-IDF}(\\text{\"кошка\"}, \\text{Документ 1}) = 1 \\cdot 0.398 = 0.398 $$\n",
        "$$ \\text{TF-IDF}(\\text{\"кошка\"}, \\text{Документ 2}) = 0 \\cdot 0.398 = 0 $$\n",
        "$$ \\text{TF-IDF}(\\text{\"кошка\"}, \\text{Документ 3}) = 1 \\cdot 0.398 = 0.398 $$\n",
        "$$ \\text{TF-IDF}(\\text{\"кошка\"}, \\text{Документ 4}) = 0 \\cdot 0.398 = 0 $$\n",
        "$$ \\text{TF-IDF}(\\text{\"кошка\"}, \\text{Документ 5}) = 0 \\cdot 0.398 = 0 $$\n",
        "\n",
        "Из этого примера видно, что документы 1 и 3, содержащие слово \"кошка\", имеют более высокий вес TF-IDF, что указывает на их большую релевантность по отношению к запросу, чем другие документы.\n",
        "\n",
        "Таким образом, обратная частотность документов (IDF) играет важную роль в информационном поиске, помогая определить важность слов в контексте корпуса документов. Она используется для вычисления весов TF-IDF, которые в свою очередь используются для ранжирования документов по их релевантности. Понимание и применение IDF помогает улучшить эффективность поисковых систем и систем информационного поиска в целом."
      ],
      "metadata": {
        "id": "vqJpBMaPGeoj"
      }
    },
    {
      "cell_type": "markdown",
      "source": [
        "Давайте реализуем пример вычисления IDF и TF-IDF на Python с использованием библиотеки scikit-learn"
      ],
      "metadata": {
        "id": "CNMHNf2xPasc"
      }
    },
    {
      "cell_type": "code",
      "source": [
        "from sklearn.feature_extraction.text import TfidfVectorizer\n",
        "\n",
        "# Пример коллекции документов\n",
        "corpus = [\n",
        "    \"Кошка сидит на окне\",\n",
        "    \"Собака бегает по улице\",\n",
        "    \"Кошка мурлыкает\",\n",
        "    \"Собака играет с мячом\",\n",
        "    \"Птица летает в небе\"\n",
        "]\n",
        "\n",
        "# Создание объекта TfidfVectorizer с настройками по умолчанию\n",
        "vectorizer = TfidfVectorizer()\n",
        "\n",
        "# Преобразование коллекции текстов в TF-IDF матрицу\n",
        "X = vectorizer.fit_transform(corpus)\n",
        "\n",
        "# Вывод словаря слов и их индексов (это словарь сопоставления слов и индексов в матрице X)\n",
        "print(\"Словарь слов:\")\n",
        "print(vectorizer.vocabulary_)\n",
        "\n",
        "# Вывод TF-IDF матрицы (в плотном формате для удобства просмотра)\n",
        "print(\"TF-IDF матрица:\")\n",
        "print(X.toarray())"
      ],
      "metadata": {
        "colab": {
          "base_uri": "https://localhost:8080/"
        },
        "id": "XVWSVMDtPezV",
        "outputId": "6361d509-5970-44ce-9d09-eeaaf3330276"
      },
      "execution_count": 6,
      "outputs": [
        {
          "output_type": "stream",
          "name": "stdout",
          "text": [
            "Словарь слов:\n",
            "{'кошка': 2, 'сидит': 11, 'на': 6, 'окне': 8, 'собака': 12, 'бегает': 0, 'по': 9, 'улице': 13, 'мурлыкает': 4, 'играет': 1, 'мячом': 5, 'птица': 10, 'летает': 3, 'небе': 7}\n",
            "TF-IDF матрица:\n",
            "[[0.         0.         0.42224214 0.         0.         0.\n",
            "  0.52335825 0.         0.52335825 0.         0.         0.52335825\n",
            "  0.         0.        ]\n",
            " [0.52335825 0.         0.         0.         0.         0.\n",
            "  0.         0.         0.         0.52335825 0.         0.\n",
            "  0.42224214 0.52335825]\n",
            " [0.         0.         0.62791376 0.         0.77828292 0.\n",
            "  0.         0.         0.         0.         0.         0.\n",
            "  0.         0.        ]\n",
            " [0.         0.61418897 0.         0.         0.         0.61418897\n",
            "  0.         0.         0.         0.         0.         0.\n",
            "  0.49552379 0.        ]\n",
            " [0.         0.         0.         0.57735027 0.         0.\n",
            "  0.         0.57735027 0.         0.         0.57735027 0.\n",
            "  0.         0.        ]]\n"
          ]
        }
      ]
    },
    {
      "cell_type": "markdown",
      "source": [
        "#### 5. Оценка сходства пар документов с помощью коэффициентов Отиаи и метрики Okapi BM25\n",
        "\n",
        "\n"
      ],
      "metadata": {
        "id": "EkR0kFX2GeyU"
      }
    },
    {
      "cell_type": "markdown",
      "source": [
        "\n",
        "Оценка сходства документов является важной задачей в информационном поиске и анализе текстов. Для решения этой задачи применяются различные метрики и коэффициенты, которые позволяют оценивать степень семантической или тематической близости между текстами. В этой лекции мы рассмотрим два таких инструмента: коэффициенты Отиаи (Jaccard Index) и метрику Okapi BM25.\n",
        "\n",
        "#### Коэффициенты Отиаи\n",
        "\n",
        "Коэффициенты Отиаи (или Jaccard Index) измеряют сходство между двумя конечными множествами. В контексте анализа текстов коэффициент Отиаи используется для оценки сходства между множествами токенов (слов или других единиц текста) в двух документах.\n",
        "\n",
        "##### Определение коэффициента Отиаи\n",
        "\n",
        "Коэффициент Отиаи для двух множеств $ A $ и $ B $ определяется как отношение размера их пересечения к размеру их объединения:\n",
        "\n",
        "$$ J(A, B) = \\frac{|A \\cap B|}{|A \\cup B|} $$\n",
        "\n",
        "Где:\n",
        "- $ |A \\cap B| $ - количество элементов, присутствующих в обоих множествах $ A $ и $ B $.\n",
        "- $ |A \\cup B| $ - количество уникальных элементов в множествах $ A $ и $ B $ (объединение множеств).\n",
        "\n",
        "##### Пример вычисления коэффициента Отиаи\n",
        "\n",
        "Предположим, у нас есть два предложения:\n",
        "1. \"Кошка сидит на окне.\"\n",
        "2. \"Собака бегает по улице.\"\n",
        "\n",
        "Множества слов для этих предложений:\n",
        "$$ A = \\{\\text{\"Кошка\", \"сидит\", \"на\", \"окне\"}\\} $$\n",
        "$$ B = \\{\\text{\"Собака\", \"бегает\", \"по\", \"улице\"}\\} $$\n",
        "\n",
        "Вычислим коэффициент Отиаи:\n",
        "$$ J(A, B) = \\frac{|\\{\\text{\"сидит\", \"на\", \"окне\"}\\}|}{|\\{\\text{\"Кошка\", \"сидит\", \"на\", \"окне\", \"Собака\", \"бегает\", \"по\", \"улице\"}\\}|} = \\frac{3}{8} = 0.375 $$\n",
        "\n",
        "\n",
        "\n"
      ],
      "metadata": {
        "id": "FnsY8tx8GgPh"
      }
    },
    {
      "cell_type": "code",
      "source": [
        "def jaccard_similarity(set1, set2):\n",
        "    intersection = len(set1.intersection(set2))\n",
        "    union = len(set1.union(set2))\n",
        "    return intersection / union if union != 0 else 0  # handle division by zero\n",
        "\n",
        "# Пример использования:\n",
        "set1 = set(['apple', 'banana', 'orange'])\n",
        "set2 = set(['banana', 'orange', 'kiwi'])\n",
        "similarity = jaccard_similarity(set1, set2)\n",
        "print(f\"Jaccard similarity between set1 and set2: {similarity}\")"
      ],
      "metadata": {
        "colab": {
          "base_uri": "https://localhost:8080/"
        },
        "id": "DbrdLApTRFPI",
        "outputId": "c91444d6-089c-40c0-90ad-02ea4ae048bf"
      },
      "execution_count": 7,
      "outputs": [
        {
          "output_type": "stream",
          "name": "stdout",
          "text": [
            "Jaccard similarity between set1 and set2: 0.5\n"
          ]
        }
      ]
    },
    {
      "cell_type": "markdown",
      "source": [
        "#### Часть 2: Метрика Okapi BM25\n",
        "\n",
        "Метрика Okapi BM25 (Best Matching 25) является популярным алгоритмом ранжирования документов в поисковых системах. Она основана на вероятностной модели информации и учитывает как частоту встречаемости слова в документе (TF), так и его обратную частотность в коллекции документов (IDF).\n",
        "\n",
        "##### Определение метрики Okapi BM25\n",
        "\n",
        "Формула для вычисления BM25 между запросом $ q $ и документом $ D $:\n",
        "\n",
        "$$ \\text{BM25}(D, q) = \\sum_{i} \\text{IDF}(q_i) \\cdot \\frac{f(q_i, D) \\cdot (k_1 + 1)}{f(q_i, D) + k_1 \\cdot (1 - b + b \\cdot \\frac{|D|}{\\text{avgdl}})} $$\n",
        "\n",
        "Где:\n",
        "- $ q_i $ - каждое слово из запроса $ q $.\n",
        "- $ f(q_i, D) $ - частота слова $ q_i $ в документе $ D $ (TF).\n",
        "- $ \\text{IDF}(q_i) $ - обратная частотность слова $ q_i $ в коллекции документов.\n",
        "- $ |D| $ - длина документа $ D $ (количество слов в нём).\n",
        "- $ \\text{avgdl} $ - средняя длина документа в коллекции.\n",
        "- $ k_1 $ и $ b $ - настраиваемые параметры, обычно $ k_1 \\in [1.2, 2.0] $ и $ b \\in [0.75, 0.95] $.\n",
        "\n",
        "##### Применение метрики Okapi BM25\n",
        "\n",
        "Метрика Okapi BM25 используется для ранжирования документов по их релевантности к запросу. Высокое значение BM25 указывает на большую вероятность того, что документ релевантен запросу.\n"
      ],
      "metadata": {
        "id": "Od-IEngfQ2vq"
      }
    },
    {
      "cell_type": "markdown",
      "source": [
        "Давайте рассмотрим конкретный пример определения метрики Okapi BM25 для слова \"apple\" в документе.\n",
        "\n",
        "Предположим, у нас есть следующие данные:\n",
        "\n",
        "- Запрос $ q $: \"apple\"\n",
        "- Документ $ D $: \"This is an example document containing the word apple. Apple is a fruit.\"\n",
        "\n",
        "Теперь давайте посчитаем BM25 для слова \"apple\" в этом документе.\n",
        "\n",
        "#### Шаг 1: Вычисление $ f(q_i, D) $ — частоты слова $ q_i $ в документе $ D $\n",
        "\n",
        "Слово \"apple\" встречается дважды в документе $ D $.\n",
        "\n",
        "$$ f(\\text{\"apple\"}, D) = 2 $$\n",
        "\n",
        "#### Шаг 2: Вычисление $ \\text{IDF}(q_i) $ — обратной документной частоты слова $ q_i $\n",
        "\n",
        "Предположим, что мы уже рассчитали обратную документную частоту (IDF) для слова \"apple\" в нашей коллекции документов и она составляет, например, $ \\text{IDF}(\\text{\"apple\"}) = 2.5 $.\n",
        "\n",
        "#### Шаг 3: Вычисление средней длины документа $ \\text{avgdl} $\n",
        "\n",
        "Пусть средняя длина документа в нашей коллекции равна $ \\text{avgdl} = 15 $ слов.\n",
        "\n",
        "#### Шаг 4: Вычисление BM25\n",
        "\n",
        "Теперь мы можем использовать формулу BM25 для слова \"apple\" в документе $ D $:\n",
        "\n",
        "$$ \\text{BM25}(\\text{\"apple\"}, D) = \\text{IDF}(\\text{\"apple\"}) \\cdot \\frac{f(\\text{\"apple\"}, D) \\cdot (k_1 + 1)}{f(\\text{\"apple\"}, D) + k_1 \\cdot (1 - b + b \\cdot \\frac{|D|}{\\text{avgdl}})} $$\n",
        "\n",
        "Подставим значения:\n",
        "\n",
        "$$ \\text{BM25}(\\text{\"apple\"}, D) = 2.5 \\cdot \\frac{2 \\cdot (1.5 + 1)}{2 + 1.5 \\cdot (1 - 0.75 + 0.75 \\cdot \\frac{11}{15})} $$\n",
        "\n",
        "Выполним вычисления:\n",
        "\n",
        "$$ \\text{BM25}(\\text{\"apple\"}, D) = 2.5 \\cdot \\frac{2 \\cdot 2.5}{2 + 1.5 \\cdot (0.25 + 0.75 \\cdot 0.733)} $$\n",
        "$$ \\text{BM25}(\\text{\"apple\"}, D) = 2.5 \\cdot \\frac{5}{2 + 1.5 \\cdot (0.25 + 0.54975)} $$\n",
        "$$ \\text{BM25}(\\text{\"apple\"}, D) = 2.5 \\cdot \\frac{5}{2 + 1.5 \\cdot 0.79975} $$\n",
        "$$ \\text{BM25}(\\text{\"apple\"}, D) = 2.5 \\cdot \\frac{5}{2 + 1.199625} $$\n",
        "$$ \\text{BM25}(\\text{\"apple\"}, D) = 2.5 \\cdot \\frac{5}{3.199625} $$\n",
        "$$ \\text{BM25}(\\text{\"apple\"}, D) = 2.5 \\cdot 1.5625 $$\n",
        "$$ \\text{BM25}(\\text{\"apple\"}, D) \\approx 3.90625 $$\n",
        "\n",
        "Таким образом, BM25 для слова \"apple\" в данном документе составляет примерно 3.91.\n",
        "\n",
        "Этот пример демонстрирует, как можно вычислить BM25 для конкретного слова в документе, используя формулу и предварительно рассчитанные значения IDF, средней длины документа и параметры $ k_1 $ и $ b $.\n",
        "\n"
      ],
      "metadata": {
        "id": "8L30WU5gRO6H"
      }
    },
    {
      "cell_type": "code",
      "source": [
        "import math\n",
        "\n",
        "def calculate_bm25(word, document, collection_term_freqs, avg_doc_length, k1=1.5, b=0.75):\n",
        "    # Check if the word is in the collection term frequencies\n",
        "    if word not in collection_term_freqs or collection_term_freqs[word] == 0:\n",
        "        raise ValueError(f\"Word '{word}' not found in collection term frequencies or has zero frequency.\")\n",
        "\n",
        "    # IDF calculation\n",
        "    idf = math.log((len(collection_term_freqs) - collection_term_freqs[word] + 0.5) / (collection_term_freqs[word] + 0.5))\n",
        "\n",
        "    # TF calculation\n",
        "    tf = document.count(word)\n",
        "\n",
        "    # Document length\n",
        "    doc_length = len(document)\n",
        "\n",
        "    # BM25 calculation\n",
        "    score = idf * ((tf * (k1 + 1)) / (tf + k1 * (1 - b + b * (doc_length / avg_doc_length))))\n",
        "\n",
        "    return score\n",
        "\n",
        "# Пример использования:\n",
        "query_word = \"apple\"\n",
        "document_text = \"This is an example document containing the word apple. Apple is a fruit.\"\n",
        "document_terms = document_text.lower().split()  # Преобразуем текст документа в список токенов\n",
        "collection_term_freqs = {'apple': 10, 'fruit': 5, 'example': 8}  # Пример частот в коллекции\n",
        "avg_doc_length = 15  # Пример средней длины документа в коллекции\n",
        "\n",
        "try:\n",
        "    bm25_score = calculate_bm25(query_word, document_terms, collection_term_freqs, avg_doc_length)\n",
        "    print(f\"BM25 score for '{query_word}' in the document: {bm25_score}\")\n",
        "except ValueError as e:\n",
        "    print(f\"Error: {e}\")"
      ],
      "metadata": {
        "colab": {
          "base_uri": "https://localhost:8080/"
        },
        "id": "aGzN_4P9TXHJ",
        "outputId": "16a55b93-120f-4a44-9704-b9c89519736c"
      },
      "execution_count": 15,
      "outputs": [
        {
          "output_type": "stream",
          "name": "stdout",
          "text": [
            "Error: math domain error\n"
          ]
        }
      ]
    },
    {
      "cell_type": "code",
      "source": [
        "!pip install rank_bm25"
      ],
      "metadata": {
        "colab": {
          "base_uri": "https://localhost:8080/"
        },
        "id": "qvSsc0AKUsdl",
        "outputId": "855cbdb5-1393-403e-c115-23b251b9a5d6"
      },
      "execution_count": 16,
      "outputs": [
        {
          "output_type": "stream",
          "name": "stdout",
          "text": [
            "Collecting rank_bm25\n",
            "  Downloading rank_bm25-0.2.2-py3-none-any.whl (8.6 kB)\n",
            "Requirement already satisfied: numpy in /usr/local/lib/python3.10/dist-packages (from rank_bm25) (1.25.2)\n",
            "Installing collected packages: rank_bm25\n",
            "Successfully installed rank_bm25-0.2.2\n"
          ]
        }
      ]
    },
    {
      "cell_type": "code",
      "source": [
        "from rank_bm25 import BM25Okapi\n",
        "\n",
        "# Пример коллекции документов\n",
        "corpus = [\n",
        "    \"This is the first document\",\n",
        "    \"This document is the second document\",\n",
        "    \"And this is the third one\",\n",
        "    \"Is this the first document?\",\n",
        "]\n",
        "\n",
        "# Преобразуем текст в токены (слова)\n",
        "tokenized_corpus = [doc.lower().split() for doc in corpus]\n",
        "\n",
        "# Создаем инстанс BM25Okapi\n",
        "bm25 = BM25Okapi(tokenized_corpus)\n",
        "\n",
        "# Пример запроса\n",
        "query = \"document\"\n",
        "\n",
        "# Преобразуем запрос в токены (слова)\n",
        "tokenized_query = query.lower().split()\n",
        "\n",
        "# Вычисляем релевантность запроса к документам\n",
        "results = bm25.get_scores(tokenized_query)\n",
        "\n",
        "# Выводим результаты\n",
        "for i, score in enumerate(results):\n",
        "    print(f\"BM25 score for document {i+1}: {score}\")"
      ],
      "metadata": {
        "colab": {
          "base_uri": "https://localhost:8080/"
        },
        "id": "IgT5J7vWUt-_",
        "outputId": "5a16e385-35ff-4b3b-b671-0fd6ba4a4b48"
      },
      "execution_count": 19,
      "outputs": [
        {
          "output_type": "stream",
          "name": "stdout",
          "text": [
            "BM25 score for document 1: 0.0\n",
            "BM25 score for document 2: 0.0\n",
            "BM25 score for document 3: 0.0\n",
            "BM25 score for document 4: 0.0\n"
          ]
        }
      ]
    },
    {
      "cell_type": "markdown",
      "source": [
        "Параметры $ k_1 $ и $ b $ в метрике Okapi BM25 являются настраиваемыми и влияют на её поведение и результаты. Вот как обычно выбираются эти параметры:\n",
        "\n",
        "### Параметр $ k_1 $\n",
        "\n",
        "Параметр $ k_1 $ контролирует насыщение (saturation) оценки TF (частоты термина) в формуле BM25. Большие значения $ k_1 $ увеличивают вес более часто встречающихся слов в документе. Обычно $ k_1 $ выбирается в диапазоне от 1.2 до 2.0. Вот как обычно происходит выбор:\n",
        "\n",
        "- **Малые значения $ k_1 $** (например, около 1.2): уменьшают влияние высоких значений TF, что может быть полезно для документов с большим количеством повторений слова.\n",
        "  \n",
        "- **Большие значения $ k_1 $** (например, около 2.0): усиливают влияние высоких значений TF, что может быть полезно для документов с низким количеством повторений слова.\n",
        "\n",
        "Выбор конкретного значения $ k_1 $ зависит от особенностей конкретной коллекции документов и требований к поисковой системе.\n",
        "\n",
        "### Параметр $ b $\n",
        "\n",
        "Параметр $ b $ контролирует влияние средней длины документа на оценку в BM25. Он регулирует, насколько сильно длина документа должна влиять на оценку. Обычно $ b $ выбирается в диапазоне от 0.75 до 0.95. Вот как обычно происходит выбор:\n",
        "\n",
        "- **Малые значения $ b $** (например, около 0.75): уменьшают влияние длины документа, что может быть полезно для коллекций с разной длиной документов.\n",
        "  \n",
        "- **Большие значения $ b $** (например, около 0.95): усиливают влияние длины документа, что может быть полезно для коллекций с почти одинаковой длиной документов.\n",
        "\n",
        "Выбор конкретного значения $ b $ также зависит от специфики коллекции документов и требований к системе ранжирования.\n",
        "\n",
        "### Как выбирать $ k_1 $ и $ b $\n",
        "\n",
        "Выбор оптимальных значений $ k_1 $ и $ b $ обычно происходит на основе экспериментов и анализа результатов на тестовых данных или в реальной среде:\n",
        "\n",
        "1. **Эмпирические исследования**: Исследование влияния различных значений $ k_1 $ и $ b $ на качество ранжирования в конкретной поисковой системе или задаче.\n",
        "   \n",
        "2. **Кросс-валидация**: Использование кросс-валидации для оценки, как значения $ k_1 $ и $ b $ влияют на производительность модели.\n",
        "\n",
        "3. **Адаптация к конкретным данным**: Некоторые значения $ k_1 $ и $ b $ могут быть более или менее эффективными в зависимости от особенностей коллекции документов (например, размера, типа документов и т.д.).\n",
        "\n",
        "Таким образом, выбор оптимальных значений $ k_1 $ и $ b $ в метрике Okapi BM25 является важной задачей для достижения высокого качества ранжирования в поисковых системах. Это требует адаптации к конкретным данным и тщательного анализа влияния параметров на результаты.\n"
      ],
      "metadata": {
        "id": "F8BMBhgwUCDK"
      }
    },
    {
      "cell_type": "markdown",
      "source": [
        "## Скалярное произведение и его применении в NLP\n",
        "\n",
        "#### Часть 1: Скалярное произведение\n",
        "\n",
        "**Определение скалярного произведения:**\n",
        "\n",
        "Скалярное произведение двух векторов $ \\mathbf{a} $ и $ \\mathbf{b} $ в $ n $-мерном пространстве определяется как сумма произведений их соответствующих компонент:\n",
        "\n",
        "$$ \\langle \\mathbf{a}, \\mathbf{b} \\rangle = \\sum_{i=1}^{n} a_i b_i $$\n",
        "\n",
        "где $ a_i $ и $ b_i $ — это $ i $-ые компоненты векторов $ \\mathbf{a} $ и $ \\mathbf{b} $ соответственно.\n",
        "\n",
        "**Применение в NLP:**\n",
        "\n",
        "В области обработки естественного языка (NLP) скалярное произведение играет важную роль, особенно при работе с векторными представлениями слов и текстов.\n",
        "\n",
        "#### Часть 2: Измерение пересечений мультимножеств слов в NLP\n",
        "\n",
        "**Определение мультимножества:**\n",
        "\n",
        "Мультимножество (или мультикомплект) представляет собой расширение понятия множества, позволяющее содержать несколько экземпляров одного и того же элемента.\n",
        "\n",
        "**Измерение пересечений мультимножеств слов:**\n",
        "\n",
        "В NLP часто возникает задача измерения сходства между текстами на основе пересечений мультимножеств слов, которые в них содержатся. Рассмотрим примеры и формулы для этого измерения.\n",
        "\n",
        "**Пример 1: Пересечение мультимножеств**\n",
        "\n",
        "Пусть у нас есть два текста, представленных как мультимножества слов $ A $ и $ B $. Для измерения их схожести используется коэффициент Жаккара:\n",
        "\n",
        "$$ J(A, B) = \\frac{|A \\cap B|}{|A \\cup B|} $$\n",
        "\n",
        "где $ |A \\cap B| $ — количество общих слов, а $ |A \\cup B| $ — количество уникальных слов в обоих текстах.\n",
        "\n",
        "**Пример 2: Использование скалярного произведения**\n",
        "\n",
        "Другой подход к измерению схожести текстов основан на векторных представлениях мультимножеств слов. Пусть $ \\mathbf{v}_A $ и $ \\mathbf{v}_B $ — векторные представления мультимножеств слов $ A $ и $ B $. Тогда косинусное расстояние между этими векторами можно выразить через скалярное произведение:\n",
        "\n",
        "$$ \\text{sim}(A, B) = \\frac{\\langle \\mathbf{v}_A, \\mathbf{v}_B \\rangle}{\\|\\mathbf{v}_A\\| \\|\\mathbf{v}_B\\|} $$\n",
        "\n",
        "где $ \\langle \\mathbf{v}_A, \\mathbf{v}_B \\rangle $ — скалярное произведение векторов $ \\mathbf{v}_A $ и $ \\mathbf{v}_B $, $ \\|\\mathbf{v}_A\\| $ и $ \\|\\mathbf{v}_B\\| $ — их нормы.\n",
        "\n",
        "\n"
      ],
      "metadata": {
        "id": "2Jll8SyRYeLM"
      }
    },
    {
      "cell_type": "markdown",
      "source": [
        "Хорошо, давай рассмотрим конкретные примеры применения скалярного произведения и измерения пересечений мультимножеств слов в NLP.\n",
        "\n",
        "### Примеры\n",
        "\n",
        "#### Пример 1: Измерение схожести текстов с использованием косинусного расстояния\n",
        "\n",
        "Предположим, у нас есть два предложения:\n",
        "\n",
        "- Текст 1: \"Кошка на ковре\"\n",
        "- Текст 2: \"Собака на ковре\"\n",
        "\n",
        "**Шаги для решения:**\n",
        "\n",
        "1. **Токенизация и создание мультимножеств слов:**\n",
        "\n",
        "   Разобъем каждое предложение на отдельные слова и создадим мультимножества (которые могут содержать повторяющиеся слова):\n",
        "\n",
        "   - Для текста 1: $ A = \\{\\text{\"Кошка\"}, \\text{\"на\"}, \\text{\"ковре\"}\\} $\n",
        "   - Для текста 2: $ B = \\{\\text{\"Собака\"}, \\text{\"на\"}, \\text{\"ковре\"}\\} $\n",
        "\n",
        "2. **Представление в виде векторов:**\n",
        "\n",
        "   Каждое мультимножество представим вектором, где каждая компонента отражает частоту встречаемости слова в тексте:\n",
        "\n",
        "   - Вектор $ \\mathbf{v}_A = [1, 1, 1] $ для текста 1 (порядок: \"Кошка\", \"на\", \"ковре\")\n",
        "   - Вектор $ \\mathbf{v}_B = [1, 1, 1] $ для текста 2 (порядок: \"Собака\", \"на\", \"ковре\")\n",
        "\n",
        "3. **Вычисление скалярного произведения:**\n",
        "\n",
        "   Теперь вычислим скалярное произведение векторов $ \\mathbf{v}_A $ и $ \\mathbf{v}_B $:\n",
        "\n",
        "   $$ \\langle \\mathbf{v}_A, \\mathbf{v}_B \\rangle = 1 \\cdot 1 + 1 \\cdot 1 + 1 \\cdot 1 = 3 $$\n",
        "\n",
        "4. **Нормализация и вычисление косинусного расстояния:**\n",
        "\n",
        "   Вычислим нормы векторов $ \\mathbf{v}_A $ и $ \\mathbf{v}_B $:\n",
        "\n",
        "   $$ \\|\\mathbf{v}_A\\| = \\sqrt{1^2 + 1^2 + 1^2} = \\sqrt{3} $$\n",
        "   $$ \\|\\mathbf{v}_B\\| = \\sqrt{1^2 + 1^2 + 1^2} = \\sqrt{3} $$\n",
        "\n",
        "   Теперь вычислим косинусное расстояние:\n",
        "\n",
        "   $$ \\text{sim}(A, B) = \\frac{\\langle \\mathbf{v}_A, \\mathbf{v}_B \\rangle}{\\|\\mathbf{v}_A\\| \\|\\mathbf{v}_B\\|} = \\frac{3}{\\sqrt{3} \\cdot \\sqrt{3}} = \\frac{3}{3} = 1 $$\n",
        "\n",
        "   Значение 1 означает полное совпадение векторных представлений текстов, что соответствует их полному пересечению мультимножеств слов.\n",
        "\n",
        "#### Пример 2: Использование коэффициента Жаккара для измерения схожести текстов\n",
        "\n",
        "Пусть у нас есть два предложения:\n",
        "\n",
        "- Текст 1: \"Кошка на ковре\"\n",
        "- Текст 2: \"Кошка на ковре и собака\"\n",
        "\n",
        "**Шаги для решения:**\n",
        "\n",
        "1. **Токенизация и создание мультимножеств слов:**\n",
        "\n",
        "   Разобъем каждое предложение на отдельные слова и создадим мультимножества:\n",
        "\n",
        "   - Для текста 1: $ A = \\{\\text{\"Кошка\"}, \\text{\"на\"}, \\text{\"ковре\"}\\} $\n",
        "   - Для текста 2: $ B = \\{\\text{\"Кошка\"}, \\text{\"на\"}, \\text{\"ковре\"}, \\text{\"и\"}, \\text{\"собака\"}\\} $\n",
        "\n",
        "2. **Вычисление коэффициента Жаккара:**\n",
        "\n",
        "   Вычислим коэффициент Жаккара для текстов 1 и 2:\n",
        "\n",
        "   $$ J(A, B) = \\frac{|A \\cap B|}{|A \\cup B|} = \\frac{3}{5} = 0.6 $$\n",
        "\n",
        "   Это значение (0.6) показывает, что 60% слов из мультимножества текста 1 встречаются также в мультимножестве текста 2.\n",
        "\n",
        "\n"
      ],
      "metadata": {
        "id": "LawbqzjZYfld"
      }
    },
    {
      "cell_type": "markdown",
      "source": [
        "Пример 1: Вычисление скалярного произведения и косинусного расстояния"
      ],
      "metadata": {
        "id": "3y7j9hWUY1iE"
      }
    },
    {
      "cell_type": "code",
      "source": [
        "import numpy as np\n",
        "from sklearn.feature_extraction.text import CountVectorizer\n",
        "from sklearn.metrics.pairwise import cosine_similarity\n",
        "\n",
        "# Пример текстов\n",
        "text1 = \"Кошка на ковре\"\n",
        "text2 = \"Собака на ковре\"\n",
        "\n",
        "# Создаем векторизатор для подсчета частот слов\n",
        "vectorizer = CountVectorizer()\n",
        "\n",
        "# Преобразуем тексты в векторные представления\n",
        "X = vectorizer.fit_transform([text1, text2])\n",
        "\n",
        "# Получаем матрицу признаков (для наглядности)\n",
        "print(\"Матрица признаков:\")\n",
        "print(X.toarray())\n",
        "\n",
        "# Вычисляем косинусное расстояние между векторами текстов\n",
        "cosine_sim = cosine_similarity(X)\n",
        "print(\"\\nКосинусное расстояние между текстами:\")\n",
        "print(cosine_sim)"
      ],
      "metadata": {
        "colab": {
          "base_uri": "https://localhost:8080/"
        },
        "id": "YVeqDKhyY5sv",
        "outputId": "39e6f4e9-5afb-49d7-ce94-5e490c435ea9"
      },
      "execution_count": 20,
      "outputs": [
        {
          "output_type": "stream",
          "name": "stdout",
          "text": [
            "Матрица признаков:\n",
            "[[1 1 1 0]\n",
            " [1 0 1 1]]\n",
            "\n",
            "Косинусное расстояние между текстами:\n",
            "[[1.         0.66666667]\n",
            " [0.66666667 1.        ]]\n"
          ]
        }
      ]
    },
    {
      "cell_type": "markdown",
      "source": [
        "\n",
        "Представленная информация описывает матрицу признаков и вычисленное косинусное расстояние между двумя текстами.\n",
        "\n",
        "Матрица признаков:\n",
        "```\n",
        "[[1 1 1 0]\n",
        " [1 0 1 1]]\n",
        "```\n",
        "Эта матрица содержит двоичные значения, которые могут представлять, например, наличие (1) или отсутствие (0) определенных слов в текстах. Каждая строка соответствует одному тексту, а каждый столбец - одному признаку (слову).\n",
        "\n",
        "Косинусное расстояние:\n",
        "```\n",
        "[[1.         0.66666667]\n",
        " [0.66666667 1.        ]]\n",
        "```\n",
        "Косинусное расстояние - это мера сходства между двумя векторами, которая вычисляется как косинус угла между ними. Значение 1 означает, что два вектора (в данном случае, тексты) идентичны, а значение 0 означает, что они ортогональны (т.е. не имеют общих признаков).\n",
        "\n",
        "Интерпретация полученных значений:\n",
        "1. Косинусное расстояние между первым и вторым текстом равно 0.66666667. Это означает, что эти тексты имеют умеренное сходство, но не идентичны.\n",
        "2. Косинусное расстояние между первым текстом и самим собой равно 1, что ожидаемо, так как текст полностью совпадает сам с собой.\n",
        "3. Косинусное расстояние между вторым текстом и самим собой также равно 1, по той же причине.\n",
        "\n"
      ],
      "metadata": {
        "id": "QDEqqRN4ZdsD"
      }
    },
    {
      "cell_type": "markdown",
      "source": [
        "Пример 2: Вычисление коэффициента Жаккара"
      ],
      "metadata": {
        "id": "EkmZEnwfY8MM"
      }
    },
    {
      "cell_type": "code",
      "source": [
        "# Функция для вычисления коэффициента Жаккара\n",
        "def jaccard_similarity(set1, set2):\n",
        "    intersection = len(set1.intersection(set2))\n",
        "    union = len(set1.union(set2))\n",
        "    return intersection / union if union != 0 else 0  # избегаем деления на ноль\n",
        "\n",
        "# Пример текстов\n",
        "text1 = \"Кошка на ковре\"\n",
        "text2 = \"Кошка на ковре и собака\"\n",
        "\n",
        "# Разбиваем тексты на множества слов\n",
        "set1 = set(text1.lower().split())\n",
        "set2 = set(text2.lower().split())\n",
        "\n",
        "# Вычисляем коэффициент Жаккара\n",
        "jaccard = jaccard_similarity(set1, set2)\n",
        "\n",
        "# Выводим результат\n",
        "print(f\"Коэффициент Жаккара между текстами: {jaccard}\")"
      ],
      "metadata": {
        "colab": {
          "base_uri": "https://localhost:8080/"
        },
        "id": "LD-skxpAZC_m",
        "outputId": "4196e34b-17a4-4840-c374-8d7637cec273"
      },
      "execution_count": 21,
      "outputs": [
        {
          "output_type": "stream",
          "name": "stdout",
          "text": [
            "Коэффициент Жаккара между текстами: 0.6\n"
          ]
        }
      ]
    },
    {
      "cell_type": "markdown",
      "source": [
        "\n",
        "\n",
        "Значение коэффициента Жаккара между двумя текстами равно 0.6, что означает следующее:\n",
        "\n",
        "1. Коэффициент Жаккара измеряется в диапазоне от 0 до 1, где 0 означает, что два множества (в данном случае, два текста) не имеют общих элементов (слов), а 1 означает, что два множества полностью совпадают.\n",
        "\n",
        "2. Значение 0.6 указывает, что два текста имеют 60% общих элементов (слов) от общего количества уникальных элементов (слов) в обоих текстах.\n",
        "\n",
        "Другими словами, 60% слов, содержащихся в обоих текстах, являются общими, а 40% слов различаются между текстами.\n",
        "\n",
        "Этот показатель может быть полезен для оценки сходства или различия между двумя текстовыми документами, что может быть важно в задачах классификации, кластеризации, поиска дубликатов и т.д."
      ],
      "metadata": {
        "id": "30cIfXdgZRqx"
      }
    }
  ]
}